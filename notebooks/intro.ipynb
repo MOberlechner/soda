{
 "cells": [
  {
   "cell_type": "code",
   "execution_count": 1,
   "metadata": {},
   "outputs": [],
   "source": [
    "import sys\n",
    "sys.path.append('../')\n",
    "import numpy as np"
   ]
  },
  {
   "cell_type": "markdown",
   "metadata": {},
   "source": [
    "# **SODA Implementation**"
   ]
  },
  {
   "cell_type": "markdown",
   "metadata": {},
   "source": [
    "The main idea of SODA is to define specific **mechanism**, which can be modeled as an incomplete information game with continuous type (valuation/observation) and action spaces. By discretizing the type and action space, we construct an approximation **game**.\n",
    "We then can apply different learning algorithms **learner** to compute Nash equilibria in the approximation game, which (hopefully) approximate the Bayes-Nash-Equilibrium of the mechanism"
   ]
  },
  {
   "cell_type": "markdown",
   "metadata": {},
   "source": [
    "## **Mechanism**"
   ]
  },
  {
   "cell_type": "markdown",
   "metadata": {},
   "source": [
    "Let's us start with a simple mechanism, the *First-Price Sealed Bid (FPSB)*. The FPSB is represented by the single item auction mechanism. Other available mechanisms are contest games, crowdsourcing, LLG auctions, double auctions and the split award auction."
   ]
  },
  {
   "cell_type": "code",
   "execution_count": 2,
   "metadata": {},
   "outputs": [],
   "source": [
    "from src.mechanism.single_item import SingleItemAuction "
   ]
  },
  {
   "cell_type": "markdown",
   "metadata": {},
   "source": [
    "The Single Item Auction is modelled as a Bayesian (Incomplete Information) Game which is defined by"
   ]
  },
  {
   "cell_type": "markdown",
   "metadata": {},
   "source": [
    "\n",
    "\\begin{equation}\n",
    "    \\Gamma = (N, V, A, F, u)\n",
    "\\end{equation}"
   ]
  },
  {
   "cell_type": "markdown",
   "metadata": {},
   "source": [
    "- $N$ set of bidders (*bidder*)\n",
    "- $V$ valuation (or observation) space for each bidder *o_space*\n",
    "- $A$ action space for each bidder *a_space*\n",
    "- *F* Prior distribution of valuation (types)\n",
    "- $u_i:V_i \\times A \\rightarrow \\mathbb{R}$ utility function (induced by auction format)"
   ]
  },
  {
   "cell_type": "code",
   "execution_count": 3,
   "metadata": {},
   "outputs": [],
   "source": [
    "# bidder (if bidders have the same name, e.g. ['1', '1'], we assume that they're symmetric and we learn one strategy for both.\n",
    "# We use the symmetric version whenever possible.\n",
    "bidder = ['1', '1']\n",
    "\n",
    "# the type and action space (interval [0,1]) for each bidder\n",
    "o_space = {'1': [0, 1]}\n",
    "a_space = {'1': [0, 1]}\n",
    "\n",
    "# prior distribution (i.i.d. uniform)\n",
    "param_prior = {'distribution': 'uniform'}\n",
    "\n",
    "# utility function (first price sealed bid with a tie-breaking rule where no one wins at ties)\n",
    "param_util = {'payment_rule':'first_price', 'tie_breaking': 'lose'}"
   ]
  },
  {
   "cell_type": "markdown",
   "metadata": {},
   "source": [
    "All this configurations can be found in the *config* directory."
   ]
  },
  {
   "cell_type": "code",
   "execution_count": 4,
   "metadata": {},
   "outputs": [
    {
     "name": "stdout",
     "output_type": "stream",
     "text": [
      "own_gradient method: True\n"
     ]
    }
   ],
   "source": [
    "mechanism = SingleItemAuction(bidder, o_space, a_space, param_prior, param_util)"
   ]
  },
  {
   "cell_type": "markdown",
   "metadata": {},
   "source": [
    "The central aspect of the mechanism is the utility function. If for the first bidder (idx=0) has a valuation of 1.0 and bids 0.6, while her opponent bids 0.3, then she wins with a payoff of 1.0-0.6:"
   ]
  },
  {
   "cell_type": "code",
   "execution_count": 5,
   "metadata": {},
   "outputs": [
    {
     "data": {
      "text/plain": [
       "array([[0.4]])"
      ]
     },
     "execution_count": 5,
     "metadata": {},
     "output_type": "execute_result"
    }
   ],
   "source": [
    "value = np.array([1.0])\n",
    "bids = np.array([0.6, 0.3])\n",
    "mechanism.utility(value, bids, idx=0)"
   ]
  },
  {
   "cell_type": "markdown",
   "metadata": {},
   "source": [
    "### **Game**"
   ]
  },
  {
   "cell_type": "markdown",
   "metadata": {},
   "source": [
    "Now given the mechanism, we can define a discretized approximation game.\n",
    "We only have to specify the number of discretization points for valuation (*n*) and action space (*m*) and pass the respective mechanism to the constructor."
   ]
  },
  {
   "cell_type": "code",
   "execution_count": 6,
   "metadata": {},
   "outputs": [],
   "source": [
    "from src.game import Game"
   ]
  },
  {
   "cell_type": "code",
   "execution_count": 7,
   "metadata": {},
   "outputs": [],
   "source": [
    "n = 20\n",
    "m = 21\n",
    "game = Game(mechanism, n, m)"
   ]
  },
  {
   "cell_type": "markdown",
   "metadata": {},
   "source": [
    "The valuation and action space for each bidder is now discretized --> game.o_discr[agent] and game.a_discr[agent]. For the observations we discretize by taking the midpoints of n subintervals, while the action space is discretized using m equidistant points including the lower and upper bound."
   ]
  },
  {
   "cell_type": "code",
   "execution_count": 8,
   "metadata": {},
   "outputs": [
    {
     "data": {
      "text/plain": [
       "array([0.  , 0.05, 0.1 , 0.15, 0.2 , 0.25, 0.3 , 0.35, 0.4 , 0.45, 0.5 ,\n",
       "       0.55, 0.6 , 0.65, 0.7 , 0.75, 0.8 , 0.85, 0.9 , 0.95, 1.  ])"
      ]
     },
     "execution_count": 8,
     "metadata": {},
     "output_type": "execute_result"
    }
   ],
   "source": [
    "game.a_discr['1']"
   ]
  },
  {
   "cell_type": "markdown",
   "metadata": {},
   "source": [
    "To compute the gradient etc. for the learning algorithm, we have to compute the utility for all possible bids and valuations beforehand for each bidder."
   ]
  },
  {
   "cell_type": "code",
   "execution_count": 9,
   "metadata": {},
   "outputs": [
    {
     "name": "stdout",
     "output_type": "stream",
     "text": [
      "(21, 21, 20)\n"
     ]
    }
   ],
   "source": [
    "game.get_utility(mechanism)\n",
    "\n",
    "print(game.utility['1'].shape)"
   ]
  },
  {
   "cell_type": "markdown",
   "metadata": {},
   "source": [
    "As we can see here, the computed utility is an array with 21x21x20 entries which corresponds to all possible combinations of bids of both players and observation of player '1'. \n",
    "If bidder 1 submits its discrete bid with index 6 and bidder 2 the discrite bid with index 3, while bidder 1 values the item according to its discrete valuation with index 10 then we have the following utility:"
   ]
  },
  {
   "cell_type": "code",
   "execution_count": 10,
   "metadata": {},
   "outputs": [
    {
     "data": {
      "text/plain": [
       "0.22500000000000003"
      ]
     },
     "execution_count": 10,
     "metadata": {},
     "output_type": "execute_result"
    }
   ],
   "source": [
    "game.utility['1'][6,3,10]"
   ]
  },
  {
   "cell_type": "markdown",
   "metadata": {},
   "source": [
    "### **Distributional Strategies**"
   ]
  },
  {
   "cell_type": "markdown",
   "metadata": {},
   "source": [
    "Given the discretied *game* we can now define distributional strategies $s_i \\in S_i$, i.e., probability measures over the discretized valuation and action space. The discretized game with the distributional strategies and the expected utilities $\\tilde u_i$ define a normal form game, i.e., the approximation game:"
   ]
  },
  {
   "cell_type": "markdown",
   "metadata": {},
   "source": [
    "\n",
    "\\begin{equation}\n",
    "    G = (N, S, \\tilde u)\n",
    "\\end{equation}"
   ]
  },
  {
   "cell_type": "code",
   "execution_count": 11,
   "metadata": {},
   "outputs": [],
   "source": [
    "from src.strategy import Strategy"
   ]
  },
  {
   "cell_type": "code",
   "execution_count": 12,
   "metadata": {},
   "outputs": [],
   "source": [
    "strategies = {}\n",
    "for i in game.bidder:\n",
    "    strategies[i] = Strategy(i, game)\n",
    "    strategies['1'].initialize('random')"
   ]
  },
  {
   "cell_type": "markdown",
   "metadata": {},
   "source": [
    "The distributional strategy can be interpreted as a matrix, where each entry (i,j) corresponds to the probability assigned to playing bid j together with valuation i.\n",
    "If we initialize the strategy randomly, each (bid,valuation) pair gets a random probability assigned (white=low, dark=high)."
   ]
  },
  {
   "cell_type": "code",
   "execution_count": 13,
   "metadata": {},
   "outputs": [
    {
     "data": {
      "image/png": "[encoded data removed]",
      "text/plain": [
       "<Figure size 360x360 with 1 Axes>"
      ]
     },
     "metadata": {
      "needs_background": "light"
     },
     "output_type": "display_data"
    }
   ],
   "source": [
    "strategies['1'].plot()"
   ]
  },
  {
   "cell_type": "markdown",
   "metadata": {},
   "source": [
    "Since it is a probability measure, all entries add up to 1."
   ]
  },
  {
   "cell_type": "code",
   "execution_count": 14,
   "metadata": {},
   "outputs": [
    {
     "data": {
      "text/plain": [
       "1.0"
      ]
     },
     "execution_count": 14,
     "metadata": {},
     "output_type": "execute_result"
    }
   ],
   "source": [
    "strategies['1'].x.sum()"
   ]
  },
  {
   "cell_type": "markdown",
   "metadata": {},
   "source": [
    "### **Learning Algorithm**"
   ]
  },
  {
   "cell_type": "markdown",
   "metadata": {},
   "source": [
    "Since our approximation game is a normal form game and since we can compute the gradient w.r.t. the distributional strategies, we can apply standard learning algorithm. One method is for instance the gradient descent with lazy projections which is a special case of the implemented simultaneous online dual averaging (SODA) with an Euclidean regularizer."
   ]
  },
  {
   "cell_type": "code",
   "execution_count": 15,
   "metadata": {},
   "outputs": [],
   "source": [
    "from src.learner.soda import SODA"
   ]
  },
  {
   "cell_type": "markdown",
   "metadata": {},
   "source": [
    "First we have to define some general parameters which are applicable to all learning algorithms:\n",
    "The algorithm stops after *max_iter* iterations or earlier, whenever the value of the stopping criteration is below *tol*.\n",
    "The other parameters are specific for the algorithm and can differ for other methods."
   ]
  },
  {
   "cell_type": "code",
   "execution_count": 16,
   "metadata": {},
   "outputs": [],
   "source": [
    "# General parameters for leanring algorithm\n",
    "max_iter = 5000\n",
    "tol = 1e-6\n",
    "stop_criterion = 'util_loss'\n",
    "\n",
    "# Specific parameters for POGA (step size)\n",
    "regularizer = 'euclidean'\n",
    "steprule_bool = True\n",
    "eta = 10\n",
    "beta = 0.5"
   ]
  },
  {
   "cell_type": "code",
   "execution_count": 17,
   "metadata": {},
   "outputs": [],
   "source": [
    "learner = SODA(max_iter, tol, stop_criterion, regularizer, steprule_bool, eta, beta)"
   ]
  },
  {
   "cell_type": "markdown",
   "metadata": {},
   "source": [
    "To apply the learning algorithm to our strategies, we simply call:"
   ]
  },
  {
   "cell_type": "code",
   "execution_count": 18,
   "metadata": {},
   "outputs": [
    {
     "name": "stderr",
     "output_type": "stream",
     "text": [
      " 11%|██▎                 | 568/5.00k [00:00<00:02, 1.89kit/s]"
     ]
    },
    {
     "name": "stdout",
     "output_type": "stream",
     "text": [
      "Convergence after 568 iterations\n",
      "Value of stopping criterion (util_loss) 0.0\n"
     ]
    },
    {
     "name": "stderr",
     "output_type": "stream",
     "text": [
      "\n"
     ]
    }
   ],
   "source": [
    "learner.run(mechanism, game, strategies, disable_tqdm_bool=False, print_result_bool=True, save_history_bool=True)"
   ]
  },
  {
   "cell_type": "markdown",
   "metadata": {},
   "source": [
    "The result of the learning algorithm is:"
   ]
  },
  {
   "cell_type": "code",
   "execution_count": 19,
   "metadata": {},
   "outputs": [
    {
     "data": {
      "image/png": "[encoded data removed]",
      "text/plain": [
       "<Figure size 360x360 with 1 Axes>"
      ]
     },
     "metadata": {
      "needs_background": "light"
     },
     "output_type": "display_data"
    }
   ],
   "source": [
    "strategies['1'].plot()"
   ]
  },
  {
   "cell_type": "markdown",
   "metadata": {},
   "source": [
    "### **Analyzing Results**"
   ]
  },
  {
   "cell_type": "markdown",
   "metadata": {},
   "source": [
    "We can look at some metrics (more=True) and compare it with the analytical BNE beta(v) = 0.5 v"
   ]
  },
  {
   "cell_type": "code",
   "execution_count": 20,
   "metadata": {},
   "outputs": [
    {
     "data": {
      "image/png": "[encoded data removed]",
      "text/plain": [
       "<Figure size 720x360 with 2 Axes>"
      ]
     },
     "metadata": {
      "needs_background": "light"
     },
     "output_type": "display_data"
    }
   ],
   "source": [
    "strategies['1'].plot(more=True, beta = 0.5 * strategies['1'].o_discr)"
   ]
  },
  {
   "cell_type": "markdown",
   "metadata": {},
   "source": [
    "We can also access the history of all computed strategies and gradients. For instance the strategy and the corresponding gradient after iter=100 iterations."
   ]
  },
  {
   "cell_type": "code",
   "execution_count": 21,
   "metadata": {},
   "outputs": [
    {
     "data": {
      "image/png": "[encoded data removed]",
      "text/plain": [
       "<Figure size 720x360 with 2 Axes>"
      ]
     },
     "metadata": {
      "needs_background": "light"
     },
     "output_type": "display_data"
    }
   ],
   "source": [
    "strategies['1'].plot(grad=True, iter=10)"
   ]
  },
  {
   "cell_type": "code",
   "execution_count": 22,
   "metadata": {},
   "outputs": [
    {
     "name": "stdout",
     "output_type": "stream",
     "text": [
      "Utility after 100 iterations:                      0.14612798531630394\n",
      "Relative utility loss after 100 iteraitons:        0.0035557142474270664\n"
     ]
    }
   ],
   "source": [
    "print('Utility after 100 iterations:'.ljust(50), strategies['1'].utility[100])\n",
    "print('Relative utility loss after 100 iteraitons:'.ljust(50), strategies['1'].utility_loss[100])"
   ]
  },
  {
   "cell_type": "code",
   "execution_count": null,
   "metadata": {},
   "outputs": [],
   "source": []
  }
 ],
 "metadata": {
  "kernelspec": {
   "display_name": "Python 3.8.10 ('venv': venv)",
   "language": "python",
   "name": "python3"
  },
  "language_info": {
   "codemirror_mode": {
    "name": "ipython",
    "version": 3
   },
   "file_extension": ".py",
   "mimetype": "text/x-python",
   "name": "python",
   "nbconvert_exporter": "python",
   "pygments_lexer": "ipython3",
   "version": "3.8.10"
  },
  "orig_nbformat": 4,
  "vscode": {
   "interpreter": {
    "hash": "8cd0d78033785eb1dc82ad5854ed229bd78f33abb49d156d8e5efec6e1d289a9"
   }
  }
 },
 "nbformat": 4,
 "nbformat_minor": 2
}
