{
 "cells": [
  {
   "cell_type": "code",
   "execution_count": 7,
   "metadata": {},
   "outputs": [],
   "source": [
    "import sys\n",
    "sys.path.append('../')\n",
    "import numpy as np"
   ]
  },
  {
   "cell_type": "markdown",
   "metadata": {},
   "source": [
    "# **SODA Implementation**"
   ]
  },
  {
   "cell_type": "markdown",
   "metadata": {},
   "source": [
    "The main idea of SODA is to define specific **mechanism**, which can be modeled as an incomplete information game with continuous type (valuation/observation) and action spaces. By discretizing the type and action space, we construct a approximation **game**.\n",
    "Then we ca apply different learning algorithms **learner** to compute Nash equilibria in the approximation game, which (hopefully) approximate the Bayes-Nash-Equilibrium of the mechanism"
   ]
  },
  {
   "cell_type": "markdown",
   "metadata": {},
   "source": [
    "## **Mechanism**"
   ]
  },
  {
   "cell_type": "markdown",
   "metadata": {},
   "source": [
    "Let's us start with a simple mechanism, the *First-Price Sealed Bid (FPSB)*. The FPSB is a single item auction, which is a mechanism we implemented."
   ]
  },
  {
   "cell_type": "code",
   "execution_count": 2,
   "metadata": {},
   "outputs": [],
   "source": [
    "from src.mechanism.single_item import SingleItemAuction "
   ]
  },
  {
   "cell_type": "markdown",
   "metadata": {},
   "source": [
    "The Single Item Auction is modelled as a Bayesian (Incomplete Information) Game which is defined by\n",
    "\\begin{equation}\n",
    "    \\Gamma = (N, V, A, F, u)\n",
    "\\end{equation}"
   ]
  },
  {
   "cell_type": "markdown",
   "metadata": {},
   "source": [
    "- $N$ set of bidders (*bidder*)\n",
    "- $V$ valuation (or observation) space for each bidder *o_space*\n",
    "- $A$ action space for each bidder *a_space*\n",
    "- *F* Prior distribution of valuation (types)\n",
    "- $u_i:V_i \\times A \\rightarrow \\mathbb{R}$ utility function (induced by auction format)"
   ]
  },
  {
   "cell_type": "code",
   "execution_count": 32,
   "metadata": {},
   "outputs": [],
   "source": [
    "# bidder (if bidders have the same name, e.g. ['1', '1'], we assume that they're symmetric and we learn one strategy for both.\n",
    "# We use the symmetric version whenever possible,\n",
    "bidder = ['1', '2']\n",
    "\n",
    "# the type and action space (interval [0,1]) for each bidder\n",
    "o_space = {'1': [0, 1], '2': [0,1]}\n",
    "a_space = {'1': [0, 1], '2': [0,1]}\n",
    "\n",
    "# prior distribution (i.i.d. uniform)\n",
    "param_prior = {'distribution': 'uniform'}\n",
    "\n",
    "# utility function (first price sealed bid with a tie-breaking rule where no one wins at ties)\n",
    "param_util = {'payment_rule':'first_price', 'tie_breaking': 'lose'}"
   ]
  },
  {
   "cell_type": "markdown",
   "metadata": {},
   "source": [
    "All this configurations can be found in the *config* directory."
   ]
  },
  {
   "cell_type": "code",
   "execution_count": 33,
   "metadata": {},
   "outputs": [],
   "source": [
    "mechanism = SingleItemAuction(bidder, o_space, a_space, param_prior, param_util)"
   ]
  },
  {
   "cell_type": "markdown",
   "metadata": {},
   "source": [
    "The central aspect of the mechanism is the utility function. If for the first bidder (idx=0) has a valuation of 1.0 and bids 0.6, while her opponent bids 0.3, then she wins with a payoff of 1.0-0.6:"
   ]
  },
  {
   "cell_type": "code",
   "execution_count": 34,
   "metadata": {},
   "outputs": [
    {
     "data": {
      "text/plain": [
       "array([[0.4]])"
      ]
     },
     "execution_count": 34,
     "metadata": {},
     "output_type": "execute_result"
    }
   ],
   "source": [
    "value = np.array([1.0])\n",
    "bids = np.array([0.6, 0.3])\n",
    "mechanism.utility(value, bids, idx=0)"
   ]
  },
  {
   "cell_type": "markdown",
   "metadata": {},
   "source": [
    "### **Game**"
   ]
  },
  {
   "cell_type": "markdown",
   "metadata": {},
   "source": [
    "Now given the mechanism, we can define a discretized approximation game.\n",
    "We only have to specify the number of discretization points for valuation (*n*) and action space (*m*) and pass the respective mechanism to the constructor."
   ]
  },
  {
   "cell_type": "code",
   "execution_count": 35,
   "metadata": {},
   "outputs": [],
   "source": [
    "from src.game import Game"
   ]
  },
  {
   "cell_type": "code",
   "execution_count": 36,
   "metadata": {},
   "outputs": [],
   "source": [
    "n = 3\n",
    "m = 5\n",
    "game = Game(mechanism, n, m)"
   ]
  },
  {
   "cell_type": "markdown",
   "metadata": {},
   "source": [
    "The valuation and action space for each bidder is now discretized"
   ]
  },
  {
   "cell_type": "code",
   "execution_count": 40,
   "metadata": {},
   "outputs": [
    {
     "data": {
      "text/plain": [
       "(array([0. , 0.5, 1. ]), array([0.  , 0.25, 0.5 , 0.75, 1.  ]))"
      ]
     },
     "execution_count": 40,
     "metadata": {},
     "output_type": "execute_result"
    }
   ],
   "source": [
    "game.o_discr['1'], game.a_discr['1']"
   ]
  },
  {
   "cell_type": "markdown",
   "metadata": {},
   "source": [
    "To compute the gradient etc. for the learning algorithm, we compute the utility for all possible bids and valuations beforehand for each bidder"
   ]
  },
  {
   "cell_type": "code",
   "execution_count": 42,
   "metadata": {},
   "outputs": [],
   "source": [
    "game.get_utility(mechanism)"
   ]
  },
  {
   "cell_type": "markdown",
   "metadata": {},
   "source": [
    "As we can see here, the computed utility is an array with 5x5x3 entries which corresponds to all possible combinations of bids of both players and observation of player '1'."
   ]
  },
  {
   "cell_type": "code",
   "execution_count": 46,
   "metadata": {},
   "outputs": [
    {
     "data": {
      "text/plain": [
       "(5, 5, 3)"
      ]
     },
     "execution_count": 46,
     "metadata": {},
     "output_type": "execute_result"
    }
   ],
   "source": [
    "game.utility['1'].shape"
   ]
  },
  {
   "cell_type": "code",
   "execution_count": null,
   "metadata": {},
   "outputs": [],
   "source": []
  },
  {
   "cell_type": "markdown",
   "metadata": {},
   "source": []
  }
 ],
 "metadata": {
  "kernelspec": {
   "display_name": "Python 3.8.10 ('venv': venv)",
   "language": "python",
   "name": "python3"
  },
  "language_info": {
   "codemirror_mode": {
    "name": "ipython",
    "version": 3
   },
   "file_extension": ".py",
   "mimetype": "text/x-python",
   "name": "python",
   "nbconvert_exporter": "python",
   "pygments_lexer": "ipython3",
   "version": "3.8.10"
  },
  "orig_nbformat": 4,
  "vscode": {
   "interpreter": {
    "hash": "8cd0d78033785eb1dc82ad5854ed229bd78f33abb49d156d8e5efec6e1d289a9"
   }
  }
 },
 "nbformat": 4,
 "nbformat_minor": 2
}
