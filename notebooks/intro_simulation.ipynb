{
 "cells": [
  {
   "cell_type": "code",
   "execution_count": 1,
   "metadata": {},
   "outputs": [],
   "source": [
    "import sys\n",
    "import os\n",
    "sys.path.append('../')\n",
    "\n",
    "import numpy as np\n",
    "import matplotlib.pyplot as plt"
   ]
  },
  {
   "attachments": {},
   "cell_type": "markdown",
   "metadata": {},
   "source": [
    "# **SODA Implementation - Simulation**"
   ]
  },
  {
   "attachments": {},
   "cell_type": "markdown",
   "metadata": {},
   "source": [
    "If we run an experiment (see [intro_learning](./intro_learning.ipynb)) and store the results, we can compute several metric to evaluate these strategies. So first, let's just run an experiment and store the result. "
   ]
  },
  {
   "cell_type": "code",
   "execution_count": 2,
   "metadata": {},
   "outputs": [],
   "source": [
    "from soda.util.experiment import Experiment"
   ]
  },
  {
   "cell_type": "code",
   "execution_count": 3,
   "metadata": {},
   "outputs": [
    {
     "name": "stdout",
     "output_type": "stream",
     "text": [
      "Experiment started..................................................................................\n",
      " - game:    ../configs/game/single_item/fpsb.yaml\n",
      " - learner: ../configs/learner/sofw.yaml\n",
      " - Setting created \n",
      " - Learning:\n"
     ]
    },
    {
     "name": "stderr",
     "output_type": "stream",
     "text": [
      "    Progress:   0%|\u001b[32m                    \u001b[0m| 0.00/5.00 [00:00<?, ?it/s]\u001b[32m\u001b[0m"
     ]
    },
    {
     "name": "stderr",
     "output_type": "stream",
     "text": [
      "    Progress: 100%|\u001b[32m████████████████████\u001b[0m| 5.00/5.00 [00:00<00:00, 8.99it/s]\u001b[32m\u001b[0m"
     ]
    },
    {
     "name": "stdout",
     "output_type": "stream",
     "text": [
      "Results not logged.\n",
      "Done ...............................................................................................\n",
      "\n"
     ]
    },
    {
     "name": "stderr",
     "output_type": "stream",
     "text": [
      "\n"
     ]
    }
   ],
   "source": [
    "game_config = \"../configs/game/single_item/fpsb.yaml\"\n",
    "learner_config = \"../configs/learner/sofw.yaml\"\n",
    "path_exp = \"../experiments/test/\"\n",
    "experiment_tag = \"fpsb\" \n",
    "\n",
    "exp_handler = Experiment(\n",
    "            game_config,\n",
    "            learner_config,\n",
    "            number_runs = 5,        # repetitions of experiment\n",
    "            learning = True,        # compute the strategies\n",
    "            simulation = False,     # compute metrics (False, since we want to do this in notebook)\n",
    "            logging = False,        # Log results from learning and simulation\n",
    "            save_strat = True,      # save computed strategies from learning\n",
    "            number_samples = None,  # parameter for simulation (see below)\n",
    "            path_exp=path_exp,      # where to store results\n",
    "            experiment_tag = experiment_tag # tag to structure results (save in different dirs)\n",
    "            \n",
    "        )\n",
    "exp_handler.run()"
   ]
  },
  {
   "attachments": {},
   "cell_type": "markdown",
   "metadata": {},
   "source": [
    "## **Create Setting and import strategy**"
   ]
  },
  {
   "cell_type": "markdown",
   "metadata": {},
   "source": [
    "To evaluate the strategies we have to create the setting and then import the saved strategies from the experiment above."
   ]
  },
  {
   "cell_type": "code",
   "execution_count": 4,
   "metadata": {},
   "outputs": [],
   "source": [
    "from soda.util.config import Config"
   ]
  },
  {
   "cell_type": "code",
   "execution_count": 5,
   "metadata": {},
   "outputs": [],
   "source": [
    "config = Config(game_config, learner_config)\n",
    "game, learner = config.create_setting()"
   ]
  },
  {
   "attachments": {},
   "cell_type": "markdown",
   "metadata": {},
   "source": [
    "Then we create the strategies and import the stored computed ones:"
   ]
  },
  {
   "cell_type": "code",
   "execution_count": 6,
   "metadata": {},
   "outputs": [],
   "source": [
    "# init strategies\n",
    "strategies = config.create_strategies(game)\n",
    "\n",
    "# load saved strategies (name pattern is always learner_setting_run_x)\n",
    "name = f\"sofw_fpsb_run_0\"\n",
    "for i in strategies:\n",
    "    strategies[i].load(name, os.path.join(path_exp, \"strategies\", experiment_tag))\n"
   ]
  },
  {
   "cell_type": "code",
   "execution_count": 7,
   "metadata": {},
   "outputs": [
    {
     "data": {
      "image/png": "[encoded data removed]",
      "text/plain": [
       "<Figure size 360x360 with 1 Axes>"
      ]
     },
     "metadata": {
      "needs_background": "light"
     },
     "output_type": "display_data"
    }
   ],
   "source": [
    "strategies['1'].plot()"
   ]
  },
  {
   "cell_type": "markdown",
   "metadata": {},
   "source": [
    "## **Sample Bids**"
   ]
  },
  {
   "attachments": {},
   "cell_type": "markdown",
   "metadata": {},
   "source": [
    "Since we want to evaluate the computed strategy in the original continuous mechanism, we sample bids for evaluation"
   ]
  },
  {
   "cell_type": "code",
   "execution_count": 8,
   "metadata": {},
   "outputs": [],
   "source": [
    "# sample 100 (continuous) observations for all agents\n",
    "observation_profile = game.mechanism.sample_types(n_vals = 100)\n",
    "\n",
    "# sample bids from strategy for first agent (index 0)\n",
    "observations = observation_profile[0]\n",
    "bids = strategies['1'].sample_bids(observation=observations)"
   ]
  },
  {
   "cell_type": "code",
   "execution_count": 9,
   "metadata": {},
   "outputs": [
    {
     "data": {
      "image/png": "[encoded data removed]",
      "text/plain": [
       "<Figure size 432x288 with 1 Axes>"
      ]
     },
     "metadata": {
      "needs_background": "light"
     },
     "output_type": "display_data"
    }
   ],
   "source": [
    "plt.scatter(observations, bids, s = 10)\n",
    "plt.title(\"Sampled Bids from Computed Strategy\", fontsize=14)\n",
    "plt.xlabel(\"Observations\")\n",
    "plt.ylabel(\"Bids\")\n",
    "plt.show()"
   ]
  },
  {
   "attachments": {},
   "cell_type": "markdown",
   "metadata": {},
   "source": [
    "We sample continuous observations, identify the nearest discrete observation and then sample discrete bids according to the computed strategy.\n",
    "This is why we only get discrete actions."
   ]
  },
  {
   "attachments": {},
   "cell_type": "markdown",
   "metadata": {},
   "source": [
    "### **Metrics**"
   ]
  },
  {
   "attachments": {},
   "cell_type": "markdown",
   "metadata": {},
   "source": [
    "One metric we often consider is the approximated L2 distance between the bids from the exact BNE $\\beta$ and the bids from the computed strategy $s$"
   ]
  },
  {
   "attachments": {},
   "cell_type": "markdown",
   "metadata": {},
   "source": [
    "\\begin{equation}\n",
    "    L_2(s, \\beta) = \\left( \\dfrac{1}{n_o} \\sum_o ( \\beta(o) - s(o))^2 \\right)^{\\frac 1 2}\n",
    "\\end{equation}"
   ]
  },
  {
   "attachments": {},
   "cell_type": "markdown",
   "metadata": {},
   "source": [
    "This means we sample many observations (types) and then compute the distance between the equilibrium bid, i.e., $\\beta(o)$ and the bid sampled from the computed strategy s, i.e., $b \\sim s(\\cdot \\vert o)$, given the observation o."
   ]
  },
  {
   "cell_type": "code",
   "execution_count": 10,
   "metadata": {},
   "outputs": [
    {
     "data": {
      "text/plain": [
       "0.008353094562822065"
      ]
     },
     "execution_count": 10,
     "metadata": {},
     "output_type": "execute_result"
    }
   ],
   "source": [
    "obs_profile = game.mechanism.sample_types(n_vals = 10_000)\n",
    "bid_profile = [\n",
    "    strategies[game.bidder[i]].sample_bids(obs_profile[i]) for i in range(game.n_bidder)\n",
    "]\n",
    "\n",
    "obs, bids = obs_profile[0], bid_profile[0]\n",
    "game.mechanism.compute_l2_norm(agent='1', obs=obs, bids=bids)"
   ]
  },
  {
   "attachments": {},
   "cell_type": "markdown",
   "metadata": {},
   "source": [
    "The second import metric is the relative utility loss, i.e., the relative loss in the utility if we play many auctions and use the computed strategy vs. the exact equilibrium strategies. The auctions are simulated by sampling observations and the corresping bids."
   ]
  },
  {
   "cell_type": "code",
   "execution_count": 11,
   "metadata": {},
   "outputs": [
    {
     "data": {
      "text/plain": [
       "(0.004242576390655062, 0.16698048854545344, 0.1676919343871878)"
      ]
     },
     "execution_count": 11,
     "metadata": {},
     "output_type": "execute_result"
    }
   ],
   "source": [
    "game.mechanism.compute_utility_vs_bne(agent='1', obs_profile=obs_profile, bids=bids)"
   ]
  },
  {
   "attachments": {},
   "cell_type": "markdown",
   "metadata": {},
   "source": [
    "The last entry is the utility agent '1' would get, if the agent would use the equilibrium strategy $\\beta$ ($U(\\beta, \\beta$). The second entry is the utility of agent '1' when using the computed strategy $s$ ($u)(s,\\beta)$. In both cases the opponents play according to the exact equilibrium strategy $\\beta$. The first entry denotes the relative difference in utility ($\\mathcal L$) we get by not playing the exact BNE:"
   ]
  },
  {
   "attachments": {},
   "cell_type": "markdown",
   "metadata": {},
   "source": [
    "\\begin{equation}\n",
    "    \\mathcal L(s, \\beta) = \\dfrac{u(\\beta, \\beta) - u(s, \\beta)}{u(\\beta, \\beta)}\n",
    "\\end{equation}"
   ]
  },
  {
   "cell_type": "markdown",
   "metadata": {},
   "source": [
    "Depending on the implented mechanism, other interesting metrics might be available, e.g., the average revenue of the auctioneer when agents play according to the computed strategies"
   ]
  },
  {
   "cell_type": "code",
   "execution_count": 12,
   "metadata": {},
   "outputs": [
    {
     "data": {
      "text/plain": [
       "0.331131746031746"
      ]
     },
     "execution_count": 12,
     "metadata": {},
     "output_type": "execute_result"
    }
   ],
   "source": [
    "game.mechanism.revenue(bid_profile).mean()"
   ]
  }
 ],
 "metadata": {
  "kernelspec": {
   "display_name": "Python 3.8.10 ('venv': venv)",
   "language": "python",
   "name": "python3"
  },
  "language_info": {
   "codemirror_mode": {
    "name": "ipython",
    "version": 3
   },
   "file_extension": ".py",
   "mimetype": "text/x-python",
   "name": "python",
   "nbconvert_exporter": "python",
   "pygments_lexer": "ipython3",
   "version": "3.8.10"
  },
  "orig_nbformat": 4,
  "vscode": {
   "interpreter": {
    "hash": "8cd0d78033785eb1dc82ad5854ed229bd78f33abb49d156d8e5efec6e1d289a9"
   }
  }
 },
 "nbformat": 4,
 "nbformat_minor": 2
}
