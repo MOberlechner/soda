{
 "cells": [
  {
   "cell_type": "code",
   "execution_count": 1,
   "metadata": {},
   "outputs": [],
   "source": [
    "import sys\n",
    "sys.path.append('../')\n",
    "import numpy as np\n",
    "import matplotlib.pyplot as plt"
   ]
  },
  {
   "attachments": {},
   "cell_type": "markdown",
   "metadata": {},
   "source": [
    "# **SODA Implementation - Simulation**"
   ]
  },
  {
   "attachments": {},
   "cell_type": "markdown",
   "metadata": {},
   "source": [
    "Assume we applied a learning algorithm, as described in the notebook **intro_learning**, and stored the result.\n",
    "Now we want to evaluate the computed strategy and compare it for instance to the continouos solution.\n",
    "Strategies are for instance solved if we run the *main.py* file (with learning=True, save_strat=True)"
   ]
  },
  {
   "attachments": {},
   "cell_type": "markdown",
   "metadata": {},
   "source": [
    "## **Create Setting and import strategy**"
   ]
  },
  {
   "cell_type": "code",
   "execution_count": 2,
   "metadata": {},
   "outputs": [],
   "source": [
    "# Assume we ran the learning algorithm for the following setting using the main.py file\n",
    "# The computed strategy can be found in experiment/test/strategies\n",
    "path_config = \"configs/\"\n",
    "path_exp = \"experiment/test/\"\n",
    "\n",
    "# setting\n",
    "mechanism_type = \"single_item\"\n",
    "experiment = \"fpsb\"\n",
    "learn_alg = \"frank_wolfe\""
   ]
  },
  {
   "cell_type": "code",
   "execution_count": 3,
   "metadata": {},
   "outputs": [],
   "source": [
    "from src.util.config import Config"
   ]
  },
  {
   "attachments": {},
   "cell_type": "markdown",
   "metadata": {},
   "source": [
    "First we have to create the setting, in which we want to evaluate our strategy:"
   ]
  },
  {
   "cell_type": "code",
   "execution_count": 4,
   "metadata": {},
   "outputs": [],
   "source": [
    "conf = Config()\n",
    "conf.get_path(path_config)\n",
    "game, learner = conf.create_setting(mechanism_type, experiment, learn_alg)"
   ]
  },
  {
   "attachments": {},
   "cell_type": "markdown",
   "metadata": {},
   "source": [
    "Then we create the strategies and import the stored computed ones:"
   ]
  },
  {
   "cell_type": "code",
   "execution_count": 5,
   "metadata": {},
   "outputs": [
    {
     "name": "stdout",
     "output_type": "stream",
     "text": [
      "File experiment/test/strategies/single_item/frank_wolfe_fpsb_run_0_agent_1.npy not found.\n"
     ]
    }
   ],
   "source": [
    "# init strategies\n",
    "strategies = conf.create_strategies(game)\n",
    "name = f\"{learn_alg}_{experiment}_run_{0}\"\n",
    "for i in strategies:\n",
    "    strategies[i].load(name, mechanism_type, path_exp)"
   ]
  },
  {
   "cell_type": "code",
   "execution_count": 6,
   "metadata": {},
   "outputs": [
    {
     "ename": "AttributeError",
     "evalue": "'NoneType' object has no attribute 'T'",
     "output_type": "error",
     "traceback": [
      "\u001b[0;31m---------------------------------------------------------------------------\u001b[0m",
      "\u001b[0;31mAttributeError\u001b[0m                            Traceback (most recent call last)",
      "Cell \u001b[0;32mIn[6], line 1\u001b[0m\n\u001b[0;32m----> 1\u001b[0m strategies[\u001b[39m'\u001b[39;49m\u001b[39m1\u001b[39;49m\u001b[39m'\u001b[39;49m]\u001b[39m.\u001b[39;49mplot()\n",
      "File \u001b[0;32m~/Git/soda/notebooks/../src/strategy.py:496\u001b[0m, in \u001b[0;36mStrategy.plot\u001b[0;34m(self, metrics, grad, beta, iter, save)\u001b[0m\n\u001b[1;32m    494\u001b[0m ax_strat \u001b[39m=\u001b[39m fig\u001b[39m.\u001b[39madd_subplot(\u001b[39m1\u001b[39m, num_plots, counter)\n\u001b[1;32m    495\u001b[0m \u001b[39mif\u001b[39;00m \u001b[39mself\u001b[39m\u001b[39m.\u001b[39mn \u001b[39m>\u001b[39m \u001b[39m1\u001b[39m:\n\u001b[0;32m--> 496\u001b[0m     \u001b[39mself\u001b[39;49m\u001b[39m.\u001b[39;49m_plot_strategy(ax_strat, strategy, param, \u001b[39miter\u001b[39;49m, beta)\n\u001b[1;32m    497\u001b[0m \u001b[39melse\u001b[39;00m:\n\u001b[1;32m    498\u001b[0m     \u001b[39mself\u001b[39m\u001b[39m.\u001b[39m_plot_strategy_complete_info(ax_strat, strategy, param, \u001b[39miter\u001b[39m, beta)\n",
      "File \u001b[0;32m~/Git/soda/notebooks/../src/strategy.py:618\u001b[0m, in \u001b[0;36mStrategy._plot_strategy\u001b[0;34m(self, ax, strategy, param, iter, beta, axis_a, axis_o)\u001b[0m\n\u001b[1;32m    610\u001b[0m \u001b[39melse\u001b[39;00m:\n\u001b[1;32m    611\u001b[0m     param_extent \u001b[39m=\u001b[39m (\n\u001b[1;32m    612\u001b[0m         \u001b[39mself\u001b[39m\u001b[39m.\u001b[39mo_discr[\u001b[39m0\u001b[39m],\n\u001b[1;32m    613\u001b[0m         \u001b[39mself\u001b[39m\u001b[39m.\u001b[39mo_discr[\u001b[39m-\u001b[39m\u001b[39m1\u001b[39m],\n\u001b[1;32m    614\u001b[0m         \u001b[39mself\u001b[39m\u001b[39m.\u001b[39ma_discr[axis_a][\u001b[39m0\u001b[39m],\n\u001b[1;32m    615\u001b[0m         \u001b[39mself\u001b[39m\u001b[39m.\u001b[39ma_discr[axis_a][\u001b[39m-\u001b[39m\u001b[39m1\u001b[39m],\n\u001b[1;32m    616\u001b[0m     )\n\u001b[1;32m    617\u001b[0m ax\u001b[39m.\u001b[39mimshow(\n\u001b[0;32m--> 618\u001b[0m     strategy\u001b[39m.\u001b[39;49mT \u001b[39m/\u001b[39m \u001b[39mself\u001b[39m\u001b[39m.\u001b[39mmargin(),\n\u001b[1;32m    619\u001b[0m     extent\u001b[39m=\u001b[39mparam_extent,\n\u001b[1;32m    620\u001b[0m     origin\u001b[39m=\u001b[39m\u001b[39m\"\u001b[39m\u001b[39mlower\u001b[39m\u001b[39m\"\u001b[39m,\n\u001b[1;32m    621\u001b[0m     vmin\u001b[39m=\u001b[39m\u001b[39m0\u001b[39m,\n\u001b[1;32m    622\u001b[0m     cmap\u001b[39m=\u001b[39m\u001b[39m\"\u001b[39m\u001b[39mGreys\u001b[39m\u001b[39m\"\u001b[39m,\n\u001b[1;32m    623\u001b[0m     aspect\u001b[39m=\u001b[39m\u001b[39m\"\u001b[39m\u001b[39mauto\u001b[39m\u001b[39m\"\u001b[39m,\n\u001b[1;32m    624\u001b[0m )\n\u001b[1;32m    626\u001b[0m \u001b[39m# plot function\u001b[39;00m\n\u001b[1;32m    627\u001b[0m \u001b[39mif\u001b[39;00m beta \u001b[39mis\u001b[39;00m \u001b[39mnot\u001b[39;00m \u001b[39mNone\u001b[39;00m:\n",
      "\u001b[0;31mAttributeError\u001b[0m: 'NoneType' object has no attribute 'T'"
     ]
    },
    {
     "data": {
      "image/png": "[encoded data removed]",
      "text/plain": [
       "<Figure size 500x500 with 1 Axes>"
      ]
     },
     "metadata": {},
     "output_type": "display_data"
    }
   ],
   "source": [
    "strategies['1'].plot()"
   ]
  },
  {
   "attachments": {},
   "cell_type": "markdown",
   "metadata": {},
   "source": [
    "## **Sample Bids**"
   ]
  },
  {
   "attachments": {},
   "cell_type": "markdown",
   "metadata": {},
   "source": [
    "Since we want to evaluate the computed strategy in the original continuous mechanism, we sample bids for evaluation"
   ]
  },
  {
   "cell_type": "code",
   "execution_count": 26,
   "metadata": {},
   "outputs": [],
   "source": [
    "# sample 100 (continuous) observations for all agents\n",
    "observation_profile = game.mechanism.sample_types(n_vals = 100)\n",
    "\n",
    "# sample bids from strategy for first agent (index 0)\n",
    "observations = observation_profile[0]\n",
    "bids = strategies['1'].sample_bids(observation=observations)"
   ]
  },
  {
   "cell_type": "code",
   "execution_count": 36,
   "metadata": {},
   "outputs": [
    {
     "data": {
      "image/png": "[encoded data removed]",
      "text/plain": [
       "<Figure size 432x288 with 1 Axes>"
      ]
     },
     "metadata": {
      "needs_background": "light"
     },
     "output_type": "display_data"
    }
   ],
   "source": [
    "plt.scatter(observations, bids, s = 10)\n",
    "plt.title(\"Sampled Bids from Computed Strategy\", fontsize=14)\n",
    "plt.xlabel(\"Observations\")\n",
    "plt.ylabel(\"Bids\")\n",
    "plt.show()"
   ]
  },
  {
   "attachments": {},
   "cell_type": "markdown",
   "metadata": {},
   "source": [
    "We sample continuous observations, identify the nearest discrete observation and then sample discrete bids according to the computed strategy.\n",
    "This is why we only get discrete actions."
   ]
  },
  {
   "attachments": {},
   "cell_type": "markdown",
   "metadata": {},
   "source": [
    "### **Metrics**"
   ]
  },
  {
   "attachments": {},
   "cell_type": "markdown",
   "metadata": {},
   "source": [
    "One metric we often consider is the approximated L2 distance between the bids from the exact BNE $\\beta$ and the bids from the computed strategy $s$"
   ]
  },
  {
   "attachments": {},
   "cell_type": "markdown",
   "metadata": {},
   "source": [
    "\\begin{equation}\n",
    "    L_2(s, \\beta) = \\left( \\dfrac{1}{n_o} \\sum_o ( \\beta(o) - s(o))^2 \\right)^{\\frac 1 2}\n",
    "\\end{equation}"
   ]
  },
  {
   "attachments": {},
   "cell_type": "markdown",
   "metadata": {},
   "source": [
    "This means we sample many observations (types) and then compute the distance between the equilibrium bid, i.e., $\\beta(o)$ and the bid sampled from the computed strategy s, i.e., $b \\sim s(\\cdot \\vert o)$, given the observation o."
   ]
  },
  {
   "cell_type": "code",
   "execution_count": 46,
   "metadata": {},
   "outputs": [
    {
     "data": {
      "text/plain": [
       "0.007829602091781332"
      ]
     },
     "execution_count": 46,
     "metadata": {},
     "output_type": "execute_result"
    }
   ],
   "source": [
    "obs_profile = game.mechanism.sample_types(n_vals = 1000)\n",
    "obs = obs_profile[0]\n",
    "bids = strategies['1'].sample_bids(obs)\n",
    "\n",
    "game.mechanism.compute_l2_norm(agent='1', obs=obs, bids=bids)"
   ]
  },
  {
   "attachments": {},
   "cell_type": "markdown",
   "metadata": {},
   "source": [
    "The second import metric is the relative utility loss, i.e., the relative loss in the utility if we play many auctions and use the computed strategy vs. the exact equilibrium strategies. The auctions are simulated by sampling observations and the corresping bids."
   ]
  },
  {
   "cell_type": "code",
   "execution_count": 47,
   "metadata": {},
   "outputs": [
    {
     "data": {
      "text/plain": [
       "(0.006851931134381206, 0.1747208773906792, 0.17592631236774867)"
      ]
     },
     "execution_count": 47,
     "metadata": {},
     "output_type": "execute_result"
    }
   ],
   "source": [
    "game.mechanism.compute_utility(agent='1', obs_profile=obs_profile, bids=bids)"
   ]
  },
  {
   "attachments": {},
   "cell_type": "markdown",
   "metadata": {},
   "source": [
    "The last entry is the utility agent '1' would get, if the agent would use the equilibrium strategy $\\beta$ ($U(\\beta, \\beta$). The second entry is the utility of agent '1' when using the computed strategy $s$ ($u)(s,\\beta)$. In both cases the opponents play according to the exact equilibrium strategy $\\beta$. The first entry denotes the relative difference in utility ($\\mathcal L$) we get by not playing the exact BNE:"
   ]
  },
  {
   "attachments": {},
   "cell_type": "markdown",
   "metadata": {},
   "source": [
    "\\begin{equation}\n",
    "    \\mathcal L(s, \\beta) = \\dfrac{u(\\beta, \\beta) - u(s, \\beta)}{u(\\beta, \\beta)}\n",
    "\\end{equation}"
   ]
  },
  {
   "attachments": {},
   "cell_type": "markdown",
   "metadata": {},
   "source": []
  }
 ],
 "metadata": {
  "kernelspec": {
   "display_name": "Python 3.8.10 ('venv': venv)",
   "language": "python",
   "name": "python3"
  },
  "language_info": {
   "codemirror_mode": {
    "name": "ipython",
    "version": 3
   },
   "file_extension": ".py",
   "mimetype": "text/x-python",
   "name": "python",
   "nbconvert_exporter": "python",
   "pygments_lexer": "ipython3",
   "version": "3.10.6"
  },
  "orig_nbformat": 4,
  "vscode": {
   "interpreter": {
    "hash": "8cd0d78033785eb1dc82ad5854ed229bd78f33abb49d156d8e5efec6e1d289a9"
   }
  }
 },
 "nbformat": 4,
 "nbformat_minor": 2
}
