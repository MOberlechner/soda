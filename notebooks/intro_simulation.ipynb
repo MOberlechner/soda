{
 "cells": [
  {
   "cell_type": "code",
   "execution_count": 1,
   "metadata": {},
   "outputs": [],
   "source": [
    "import sys\n",
    "import os\n",
    "sys.path.append('../')\n",
    "\n",
    "import numpy as np\n",
    "import matplotlib.pyplot as plt"
   ]
  },
  {
   "attachments": {},
   "cell_type": "markdown",
   "metadata": {},
   "source": [
    "# **SODA Implementation - Simulation**"
   ]
  },
  {
   "attachments": {},
   "cell_type": "markdown",
   "metadata": {},
   "source": [
    "If we run an experiment (see [intro_learning](./intro_learning.ipynb)) and store the results, we can compute several metric to evaluate these strategies. So first, let's just run an experiment and store the result. "
   ]
  },
  {
   "cell_type": "code",
   "execution_count": 2,
   "metadata": {},
   "outputs": [],
   "source": [
    "from soda.util.experiment import Experiment"
   ]
  },
  {
   "cell_type": "code",
   "execution_count": 3,
   "metadata": {},
   "outputs": [
    {
     "name": "stdout",
     "output_type": "stream",
     "text": [
      "---------------------------------------------------------------------------\n",
      " - game   : ../configs/game/single_item/fpsb.yaml\n",
      " - learner: ../configs/learner/sofw.yaml\n",
      " - Setting created \n",
      " - Computation:\n",
      "    own gradient computation is used\n"
     ]
    },
    {
     "name": "stderr",
     "output_type": "stream",
     "text": [
      "    Progress:   0%|\u001b[32m                    \u001b[0m| 0.00/5.00 [00:00<?, ?it/s]\u001b[32m\u001b[0m"
     ]
    },
    {
     "name": "stderr",
     "output_type": "stream",
     "text": [
      "    Progress: 100%|\u001b[32m████████████████████\u001b[0m| 5.00/5.00 [00:03<00:00, 1.53it/s]\u001b[32m\u001b[0m"
     ]
    },
    {
     "name": "stdout",
     "output_type": "stream",
     "text": [
      "---------------------------------------------------------------------------\n"
     ]
    },
    {
     "name": "stderr",
     "output_type": "stream",
     "text": [
      "\n"
     ]
    }
   ],
   "source": [
    "param_logging = {\n",
    "    \"path_experiment\": \"../experiments/test/\",\n",
    "    \"save_strategy\": True,\n",
    "    \"save_strategy_init\": False,\n",
    "    \"save_image\": True,\n",
    "    \"round_decimal\": 5,\n",
    "}\n",
    "\n",
    "config_game = \"../configs/game/single_item/fpsb.yaml\"\n",
    "config_learner = \"../configs/learner/sofw.yaml\"\n",
    "\n",
    "exp_handler = Experiment(\n",
    "            config_game,\n",
    "            config_learner,\n",
    "            number_runs=5,\n",
    "            label_experiment=\"fpsb\",\n",
    "            param_computation={\"active\": True, \"init_method\": \"random\"},\n",
    "            param_simulation={\"active\": False},\n",
    "            param_logging=param_logging,\n",
    "        )\n",
    "\n",
    "\n",
    "exp_handler.run()"
   ]
  },
  {
   "attachments": {},
   "cell_type": "markdown",
   "metadata": {},
   "source": [
    "## **Create Setting and import strategy**"
   ]
  },
  {
   "cell_type": "markdown",
   "metadata": {},
   "source": [
    "To evaluate the strategies we have to create the setting and then import the saved strategies from the experiment above."
   ]
  },
  {
   "cell_type": "code",
   "execution_count": 4,
   "metadata": {},
   "outputs": [],
   "source": [
    "from soda.util.config import Config"
   ]
  },
  {
   "cell_type": "code",
   "execution_count": 5,
   "metadata": {},
   "outputs": [
    {
     "ename": "NameError",
     "evalue": "name 'game_config' is not defined",
     "output_type": "error",
     "traceback": [
      "\u001b[0;31m---------------------------------------------------------------------------\u001b[0m",
      "\u001b[0;31mNameError\u001b[0m                                 Traceback (most recent call last)",
      "Input \u001b[0;32mIn [5]\u001b[0m, in \u001b[0;36m<cell line: 1>\u001b[0;34m()\u001b[0m\n\u001b[0;32m----> 1\u001b[0m config \u001b[38;5;241m=\u001b[39m Config(\u001b[43mgame_config\u001b[49m, learner_config)\n\u001b[1;32m      2\u001b[0m game, learner \u001b[38;5;241m=\u001b[39m config\u001b[38;5;241m.\u001b[39mcreate_setting()\n",
      "\u001b[0;31mNameError\u001b[0m: name 'game_config' is not defined"
     ]
    }
   ],
   "source": [
    "config = Config(game_config, learner_config)\n",
    "game, learner = config.create_setting()"
   ]
  },
  {
   "attachments": {},
   "cell_type": "markdown",
   "metadata": {},
   "source": [
    "Then we create the strategies and import the stored computed ones:"
   ]
  },
  {
   "cell_type": "code",
   "execution_count": null,
   "metadata": {},
   "outputs": [],
   "source": [
    "# init strategies\n",
    "strategies = config.create_strategies(game, init_method=\"nan\")\n",
    "\n",
    "# load saved strategies (name pattern is always learner_setting_run_x)\n",
    "name = f\"fpsb_sofw_run_0\"\n",
    "filename = os.path.join(\"../experiments/test/\", experiment_tag, \"strategies\", name)\n",
    "for i in strategies:\n",
    "    strategies[i].load(filename)\n"
   ]
  },
  {
   "cell_type": "code",
   "execution_count": null,
   "metadata": {},
   "outputs": [
    {
     "data": {
      "image/png": "[encoded data removed]",
      "text/plain": [
       "<Figure size 360x360 with 1 Axes>"
      ]
     },
     "metadata": {
      "needs_background": "light"
     },
     "output_type": "display_data"
    }
   ],
   "source": [
    "strategies['1'].plot()"
   ]
  },
  {
   "cell_type": "markdown",
   "metadata": {},
   "source": [
    "## **Sample Bids**"
   ]
  },
  {
   "attachments": {},
   "cell_type": "markdown",
   "metadata": {},
   "source": [
    "Since we want to evaluate the computed strategy in the original continuous mechanism, we sample bids for evaluation"
   ]
  },
  {
   "cell_type": "code",
   "execution_count": null,
   "metadata": {},
   "outputs": [],
   "source": [
    "# sample 100 (continuous) observations for all agents\n",
    "observation_profile = game.mechanism.sample_types(n_vals = 100)\n",
    "\n",
    "# sample bids from strategy for first agent (index 0)\n",
    "observations = observation_profile[0]\n",
    "bids = strategies['1'].sample_bids(observation=observations)"
   ]
  },
  {
   "cell_type": "code",
   "execution_count": null,
   "metadata": {},
   "outputs": [
    {
     "data": {
      "image/png": "[encoded data removed]",
      "text/plain": [
       "<Figure size 432x288 with 1 Axes>"
      ]
     },
     "metadata": {
      "needs_background": "light"
     },
     "output_type": "display_data"
    }
   ],
   "source": [
    "plt.scatter(observations, bids, s = 10)\n",
    "plt.title(\"Sampled Bids from Computed Strategy\", fontsize=14)\n",
    "plt.xlabel(\"Observations\")\n",
    "plt.ylabel(\"Bids\")\n",
    "plt.show()"
   ]
  },
  {
   "attachments": {},
   "cell_type": "markdown",
   "metadata": {},
   "source": [
    "We sample continuous observations, identify the nearest discrete observation and then sample discrete bids according to the computed strategy.\n",
    "This is why we only get discrete actions."
   ]
  },
  {
   "attachments": {},
   "cell_type": "markdown",
   "metadata": {},
   "source": [
    "### **Metrics**"
   ]
  },
  {
   "attachments": {},
   "cell_type": "markdown",
   "metadata": {},
   "source": [
    "One metric we often consider is the approximated L2 distance between the bids from the exact BNE $\\beta$ and the bids from the computed strategy $s$"
   ]
  },
  {
   "attachments": {},
   "cell_type": "markdown",
   "metadata": {},
   "source": [
    "\\begin{equation}\n",
    "    L_2(s, \\beta) = \\left( \\dfrac{1}{n_o} \\sum_o ( \\beta(o) - s(o))^2 \\right)^{\\frac 1 2}\n",
    "\\end{equation}"
   ]
  },
  {
   "attachments": {},
   "cell_type": "markdown",
   "metadata": {},
   "source": [
    "This means we sample many observations (types) and then compute the distance between the equilibrium bid, i.e., $\\beta(o)$ and the bid sampled from the computed strategy s, i.e., $b \\sim s(\\cdot \\vert o)$, given the observation o."
   ]
  },
  {
   "cell_type": "code",
   "execution_count": null,
   "metadata": {},
   "outputs": [
    {
     "data": {
      "text/plain": [
       "0.008154591355775693"
      ]
     },
     "execution_count": 19,
     "metadata": {},
     "output_type": "execute_result"
    }
   ],
   "source": [
    "obs_profile = game.mechanism.sample_types(n_vals = 10_000)\n",
    "bid_profile = np.array([\n",
    "    strategies[game.bidder[i]].sample_bids(obs_profile[i]) for i in range(game.n_bidder)\n",
    "])\n",
    "\n",
    "obs, bids = obs_profile[0], bid_profile[0]\n",
    "game.mechanism.compute_l2_norm(agent='1', obs=obs, bids=bids)"
   ]
  },
  {
   "attachments": {},
   "cell_type": "markdown",
   "metadata": {},
   "source": [
    "The second import metric is the relative utility loss, i.e., the relative loss in the utility if we play many auctions and use the computed strategy vs. the exact equilibrium strategies. The auctions are simulated by sampling observations and the corresping bids."
   ]
  },
  {
   "cell_type": "code",
   "execution_count": null,
   "metadata": {},
   "outputs": [
    {
     "name": "stdout",
     "output_type": "stream",
     "text": [
      "Utility if all agents play the computed   BNE: 0.162\n",
      "                           the analytical BNE: 0.169\n",
      "Utility if agent 1 plays against analyt. BNE: 0.168\n",
      "                       relative utility loss: 0.002\n"
     ]
    }
   ],
   "source": [
    "util, util_in_bne, util_vs_bne, util_loss = game.mechanism.compute_utility_vs_bne(\n",
    "    agent='1', obs_profile=obs_profile, bid_profile=bid_profile\n",
    "    )\n",
    "\n",
    "\n",
    "print(f\"Utility if all agents play the computed   BNE: {util:.3f}\")\n",
    "print(f\"                           the analytical BNE: {util_in_bne:.3f}\")\n",
    "print(f\"Utility if agent 1 plays against analyt. BNE: {util_vs_bne:.3f}\")\n",
    "print(f\"                       relative utility loss: {util_loss:.3f}\")"
   ]
  },
  {
   "attachments": {},
   "cell_type": "markdown",
   "metadata": {},
   "source": [
    "The last entry is the utility agent '1' would get, if the agent would use the equilibrium strategy $\\beta$ ($U(\\beta, \\beta$). The second entry is the utility of agent '1' when using the computed strategy $s$ ($u)(s,\\beta)$. In both cases the opponents play according to the exact equilibrium strategy $\\beta$. The first entry denotes the relative difference in utility ($\\mathcal L$) we get by not playing the exact BNE:"
   ]
  },
  {
   "attachments": {},
   "cell_type": "markdown",
   "metadata": {},
   "source": [
    "\\begin{equation}\n",
    "    \\mathcal L(s, \\beta) = \\dfrac{u(\\beta, \\beta) - u(s, \\beta)}{u(\\beta, \\beta)}\n",
    "\\end{equation}"
   ]
  },
  {
   "cell_type": "markdown",
   "metadata": {},
   "source": [
    "Depending on the implented mechanism, other interesting metrics might be available, e.g., the average revenue of the auctioneer when agents play according to the computed strategies"
   ]
  },
  {
   "cell_type": "code",
   "execution_count": null,
   "metadata": {},
   "outputs": [
    {
     "data": {
      "text/plain": [
       "0.3335603174603175"
      ]
     },
     "execution_count": 31,
     "metadata": {},
     "output_type": "execute_result"
    }
   ],
   "source": [
    "game.mechanism.revenue(bid_profile).mean()"
   ]
  }
 ],
 "metadata": {
  "kernelspec": {
   "display_name": "venv",
   "language": "python",
   "name": "python3"
  },
  "language_info": {
   "codemirror_mode": {
    "name": "ipython",
    "version": 3
   },
   "file_extension": ".py",
   "mimetype": "text/x-python",
   "name": "python",
   "nbconvert_exporter": "python",
   "pygments_lexer": "ipython3",
   "version": "3.8.10"
  },
  "orig_nbformat": 4
 },
 "nbformat": 4,
 "nbformat_minor": 2
}
