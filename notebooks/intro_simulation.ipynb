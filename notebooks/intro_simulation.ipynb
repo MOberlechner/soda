{
 "cells": [
  {
   "cell_type": "code",
   "execution_count": 20,
   "metadata": {},
   "outputs": [],
   "source": [
    "import sys\n",
    "sys.path.append('../')\n",
    "import numpy as np\n",
    "import matplotlib.pyplot as plt"
   ]
  },
  {
   "attachments": {},
   "cell_type": "markdown",
   "metadata": {},
   "source": [
    "# **SODA Implementation - Simulation**"
   ]
  },
  {
   "attachments": {},
   "cell_type": "markdown",
   "metadata": {},
   "source": [
    "Assume we applied a learning algorithm, as described in the notebook **intro_learning**, and stored the result.\n",
    "Now we want to evaluate the computed strategy and compare it for instance to the continouos solution.\n",
    "Strategies are for instance solved if we run the *main.py* file (with learning=True, save_strat=True)"
   ]
  },
  {
   "attachments": {},
   "cell_type": "markdown",
   "metadata": {},
   "source": [
    "## **Create Setting and import strategy**"
   ]
  },
  {
   "cell_type": "code",
   "execution_count": 21,
   "metadata": {},
   "outputs": [],
   "source": [
    "# Assume we ran the learning algorithm for the following setting using the main.py file\n",
    "# The computed strategy can be found in experiment/test/strategies\n",
    "path_config = \"configs/\"\n",
    "path_exp = \"experiment/test/\"\n",
    "\n",
    "# setting\n",
    "mechanism_type = \"single_item\"\n",
    "experiment = \"fpsb\"\n",
    "learn_alg = \"frank_wolfe\""
   ]
  },
  {
   "cell_type": "code",
   "execution_count": 22,
   "metadata": {},
   "outputs": [],
   "source": [
    "from src.util.config import Config"
   ]
  },
  {
   "attachments": {},
   "cell_type": "markdown",
   "metadata": {},
   "source": [
    "First we have to create the setting, in which we want to evaluate our strategy:"
   ]
  },
  {
   "cell_type": "code",
   "execution_count": 23,
   "metadata": {},
   "outputs": [],
   "source": [
    "conf = Config()\n",
    "conf.get_path(path_config)\n",
    "game, learner = conf.create_setting(mechanism_type, experiment, learn_alg)"
   ]
  },
  {
   "attachments": {},
   "cell_type": "markdown",
   "metadata": {},
   "source": [
    "Then we create the strategies and import the stored computed ones:"
   ]
  },
  {
   "cell_type": "code",
   "execution_count": 24,
   "metadata": {},
   "outputs": [],
   "source": [
    "# init strategies\n",
    "strategies = conf.create_strategies(game)\n",
    "name = f\"{learn_alg}_{experiment}_run_{0}\"\n",
    "for i in strategies:\n",
    "    strategies[i].load(name, mechanism_type, path_exp)"
   ]
  },
  {
   "cell_type": "code",
   "execution_count": 25,
   "metadata": {},
   "outputs": [
    {
     "data": {
      "image/png": "[encoded data removed]",
      "text/plain": [
       "<Figure size 360x360 with 1 Axes>"
      ]
     },
     "metadata": {
      "needs_background": "light"
     },
     "output_type": "display_data"
    }
   ],
   "source": [
    "strategies['1'].plot()"
   ]
  },
  {
   "cell_type": "markdown",
   "metadata": {},
   "source": [
    "## **Sample Bids**"
   ]
  },
  {
   "attachments": {},
   "cell_type": "markdown",
   "metadata": {},
   "source": [
    "Since we want to evaluate the computed strategy in the original continuous mechanism, we sample bids for evaluation"
   ]
  },
  {
   "cell_type": "code",
   "execution_count": 26,
   "metadata": {},
   "outputs": [],
   "source": [
    "# sample 100 (continuous) observations for all agents\n",
    "observation_profile = game.mechanism.sample_types(n_vals = 100)\n",
    "\n",
    "# sample bids from strategy for first agent (index 0)\n",
    "observations = observation_profile[0]\n",
    "bids = strategies['1'].sample_bids(observation=observations)"
   ]
  },
  {
   "cell_type": "code",
   "execution_count": 36,
   "metadata": {},
   "outputs": [
    {
     "data": {
      "image/png": "[encoded data removed]",
      "text/plain": [
       "<Figure size 432x288 with 1 Axes>"
      ]
     },
     "metadata": {
      "needs_background": "light"
     },
     "output_type": "display_data"
    }
   ],
   "source": [
    "plt.scatter(observations, bids, s = 10)\n",
    "plt.title(\"Sampled Bids from Computed Strategy\", fontsize=14)\n",
    "plt.xlabel(\"Observations\")\n",
    "plt.ylabel(\"Bids\")\n",
    "plt.show()"
   ]
  },
  {
   "attachments": {},
   "cell_type": "markdown",
   "metadata": {},
   "source": [
    "We sample continuous observations, identify the nearest discrete observation and then sample discrete bids according to the computed strategy.\n",
    "This is why we only get discrete actions."
   ]
  },
  {
   "attachments": {},
   "cell_type": "markdown",
   "metadata": {},
   "source": [
    "### **Metrics**"
   ]
  },
  {
   "attachments": {},
   "cell_type": "markdown",
   "metadata": {},
   "source": [
    "One metric we often consider is the approximated L2 distance between the bids from the exact BNE $\\beta$ and the bids from the computed strategy $s$"
   ]
  },
  {
   "attachments": {},
   "cell_type": "markdown",
   "metadata": {},
   "source": [
    "\\begin{equation}\n",
    "    L_2(s, \\beta) = \\left( \\dfrac{1}{n_o} \\sum_o ( \\beta(o) - s(o))^2 \\right)^{\\frac 1 2}\n",
    "\\end{equation}"
   ]
  },
  {
   "attachments": {},
   "cell_type": "markdown",
   "metadata": {},
   "source": [
    "This means we sample many observations (types) and then compute the distance between the equilibrium bid, i.e., $\\beta(o)$ and the bid sampled from the computed strategy s, i.e., $b \\sim s(\\cdot \\vert o)$, given the observation o."
   ]
  },
  {
   "cell_type": "code",
   "execution_count": 46,
   "metadata": {},
   "outputs": [
    {
     "data": {
      "text/plain": [
       "0.007829602091781332"
      ]
     },
     "execution_count": 46,
     "metadata": {},
     "output_type": "execute_result"
    }
   ],
   "source": [
    "obs_profile = game.mechanism.sample_types(n_vals = 1000)\n",
    "obs = obs_profile[0]\n",
    "bids = strategies['1'].sample_bids(obs)\n",
    "\n",
    "game.mechanism.compute_l2_norm(agent='1', obs=obs, bids=bids)"
   ]
  },
  {
   "attachments": {},
   "cell_type": "markdown",
   "metadata": {},
   "source": [
    "The second import metric is the relative utility loss, i.e., the relative loss in the utility if we play many auctions and use the computed strategy vs. the exact equilibrium strategies. The auctions are simulated by sampling observations and the corresping bids."
   ]
  },
  {
   "cell_type": "code",
   "execution_count": 47,
   "metadata": {},
   "outputs": [
    {
     "data": {
      "text/plain": [
       "(0.006851931134381206, 0.1747208773906792, 0.17592631236774867)"
      ]
     },
     "execution_count": 47,
     "metadata": {},
     "output_type": "execute_result"
    }
   ],
   "source": [
    "game.mechanism.compute_utility(agent='1', obs_profile=obs_profile, bids=bids)"
   ]
  },
  {
   "attachments": {},
   "cell_type": "markdown",
   "metadata": {},
   "source": [
    "The last entry is the utility agent '1' would get, if the agent would use the equilibrium strategy $\\beta$ ($U(\\beta, \\beta$). The second entry is the utility of agent '1' when using the computed strategy $s$ ($u)(s,\\beta)$. In both cases the opponents play according to the exact equilibrium strategy $\\beta$. The first entry denotes the relative difference in utility ($\\mathcal L$) we get by not playing the exact BNE:"
   ]
  },
  {
   "attachments": {},
   "cell_type": "markdown",
   "metadata": {},
   "source": [
    "\\begin{equation}\n",
    "    \\mathcal L(s, \\beta) = \\dfrac{u(\\beta, \\beta) - u(s, \\beta)}{u(\\beta, \\beta)}\n",
    "\\end{equation}"
   ]
  },
  {
   "cell_type": "markdown",
   "metadata": {},
   "source": []
  }
 ],
 "metadata": {
  "kernelspec": {
   "display_name": "Python 3.8.10 ('venv': venv)",
   "language": "python",
   "name": "python3"
  },
  "language_info": {
   "codemirror_mode": {
    "name": "ipython",
    "version": 3
   },
   "file_extension": ".py",
   "mimetype": "text/x-python",
   "name": "python",
   "nbconvert_exporter": "python",
   "pygments_lexer": "ipython3",
   "version": "3.8.10"
  },
  "orig_nbformat": 4,
  "vscode": {
   "interpreter": {
    "hash": "8cd0d78033785eb1dc82ad5854ed229bd78f33abb49d156d8e5efec6e1d289a9"
   }
  }
 },
 "nbformat": 4,
 "nbformat_minor": 2
}
