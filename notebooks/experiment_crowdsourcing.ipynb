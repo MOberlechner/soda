{
 "cells": [
  {
   "cell_type": "raw",
   "metadata": {},
   "source": [
    "%matplotlib notebook"
   ]
  },
  {
   "cell_type": "code",
   "execution_count": 1,
   "metadata": {},
   "outputs": [],
   "source": [
    "import sys\n",
    "import numpy as np\n",
    "from scipy.special import binom\n",
    "import matplotlib.pyplot as plt\n",
    "import matplotlib.animation as animation"
   ]
  },
  {
   "cell_type": "code",
   "execution_count": 2,
   "metadata": {},
   "outputs": [],
   "source": [
    "sys.path.append('../')\n",
    "from src.mechanism.crowdsourcing import Crowdsourcing\n",
    "from src.game import Game\n",
    "from src.strategy import Strategy\n",
    "from src.learner import SODA"
   ]
  },
  {
   "cell_type": "code",
   "execution_count": 3,
   "metadata": {},
   "outputs": [],
   "source": [
    "# parameter mechanism\n",
    "bidder = ['1']*5\n",
    "o_space = {i:[0.0, 1.0] for i in bidder}\n",
    "a_space = {i:[0.0, 0.75] for i in bidder}\n",
    "param_prior = {'distribution':'uniform'}\n",
    "\n",
    "price = [0.8, 0.2]\n",
    "param_util = {'tiebreaking':'lose', 'type':'valuation'}\n",
    "\n",
    "# parameter approximation game\n",
    "n = 128\n",
    "m = 128\n",
    "\n",
    "# parameter learner\n",
    "max_iter = int(3e3)\n",
    "tol = 1e-4\n",
    "steprule_bool = True\n",
    "eta = 10\n",
    "beta = 1/20"
   ]
  },
  {
   "cell_type": "code",
   "execution_count": 4,
   "metadata": {},
   "outputs": [],
   "source": [
    "# create mechanism\n",
    "mechanism = Crowdsourcing(bidder, o_space, a_space, param_prior, price, param_util)"
   ]
  },
  {
   "cell_type": "code",
   "execution_count": 5,
   "metadata": {},
   "outputs": [],
   "source": [
    "# create approximation game\n",
    "game = Game(mechanism, n, m)\n",
    "if not mechanism.own_gradient:\n",
    "    game.get_utility(mechanism)"
   ]
  },
  {
   "cell_type": "code",
   "execution_count": 9,
   "metadata": {},
   "outputs": [],
   "source": [
    "# create learner\n",
    "soda = SODA(0, tol, steprule_bool, eta, beta)\n",
    "\n",
    "#create and initialize strategies\n",
    "strategies = {}\n",
    "for i in game.set_bidder:\n",
    "    strategies[i] = Strategy(i, game)\n",
    "    strategies[i].initialize('random')"
   ]
  },
  {
   "cell_type": "code",
   "execution_count": 10,
   "metadata": {
    "scrolled": false
   },
   "outputs": [
    {
     "name": "stderr",
     "output_type": "stream",
     "text": [
      "|                    | 0.00/0.00 [00:00<?, ?it/s]                                                                                                                                                              "
     ]
    },
    {
     "name": "stdout",
     "output_type": "stream",
     "text": [
      "No convergence\n",
      "Current relative utility loss 100 %\n",
      "Best relative utility loss 100 %\n"
     ]
    },
    {
     "name": "stderr",
     "output_type": "stream",
     "text": [
      "\n"
     ]
    }
   ],
   "source": [
    "# run soda\n",
    "soda.run(mechanism, game, strategies)"
   ]
  },
  {
   "cell_type": "code",
   "execution_count": 13,
   "metadata": {},
   "outputs": [
    {
     "data": {
      "text/plain": [
       "{}"
      ]
     },
     "execution_count": 13,
     "metadata": {},
     "output_type": "execute_result"
    }
   ],
   "source": [
    "soda.grad"
   ]
  },
  {
   "cell_type": "code",
   "execution_count": null,
   "metadata": {},
   "outputs": [],
   "source": [
    "x = np.linspace(0.0,1,100)\n",
    "\n",
    "n_bidder = mechanism.n_bidder\n",
    "beta = lambda x: price[0] * (n_bidder-1)/n_bidder*x**n_bidder\\\n",
    "               + price[1] * ((n_bidder-2)*x**(n_bidder-1) - (n_bidder-1)**2/n_bidder * x **n_bidder)\n",
    "    \n",
    "strategies['1'].plot(False, beta(x))"
   ]
  },
  {
   "cell_type": "markdown",
   "metadata": {},
   "source": [
    "### Mixed Strategy"
   ]
  },
  {
   "cell_type": "code",
   "execution_count": null,
   "metadata": {},
   "outputs": [],
   "source": [
    "x = np.linspace(0,1,100)"
   ]
  },
  {
   "cell_type": "code",
   "execution_count": null,
   "metadata": {},
   "outputs": [],
   "source": [
    "mechanism.get_bne('1',x)"
   ]
  },
  {
   "cell_type": "code",
   "execution_count": null,
   "metadata": {},
   "outputs": [],
   "source": [
    "(mechanism.o_space['1'] == [0, 1] and mechanism.type == 'valuation' and\n",
    "                len(mechanism.set_bidder) == 1 and (mechanism.prices > 0).sum() <= 2)"
   ]
  },
  {
   "cell_type": "code",
   "execution_count": null,
   "metadata": {},
   "outputs": [],
   "source": [
    "mechanism.get_bne(i, obs[mechanism.bidder.index(i)])"
   ]
  },
  {
   "cell_type": "code",
   "execution_count": null,
   "metadata": {},
   "outputs": [],
   "source": [
    "mechanism.set_bidder"
   ]
  },
  {
   "cell_type": "code",
   "execution_count": null,
   "metadata": {},
   "outputs": [],
   "source": [
    " mechanism.get_bne('1', obs[mechanism.bidder.index('1')])"
   ]
  },
  {
   "cell_type": "code",
   "execution_count": null,
   "metadata": {},
   "outputs": [],
   "source": [
    "plt.scatter(obs[0], bne[0])"
   ]
  },
  {
   "cell_type": "code",
   "execution_count": null,
   "metadata": {},
   "outputs": [],
   "source": []
  },
  {
   "cell_type": "code",
   "execution_count": null,
   "metadata": {},
   "outputs": [],
   "source": [
    "strategies['1'].x = np.array(strategies['1'].history[7:]).mean(axis=0)\n",
    "grad = soda.compute_gradient(strategies, game, '1')\n",
    "br = strategies['1'].best_response(grad)\n",
    "print('relative utility loss', round((1 - (grad * strategies['1'].x).sum()/(grad * br).sum())*100,2),'%')"
   ]
  },
  {
   "cell_type": "code",
   "execution_count": null,
   "metadata": {},
   "outputs": [],
   "source": [
    "strategies['1'].plot(False, beta(x))"
   ]
  },
  {
   "cell_type": "markdown",
   "metadata": {},
   "source": [
    "### Gradient"
   ]
  },
  {
   "cell_type": "code",
   "execution_count": null,
   "metadata": {},
   "outputs": [],
   "source": [
    "for i in range(200, 500, 20):\n",
    "    strategies['1'].x = strategies['1'].history[i]\n",
    "    grad = soda.compute_gradient(strategies, game, '1')\n",
    "    plt.plot(range(m), grad[50], alpha = 0.001*(i-199), color='k')"
   ]
  },
  {
   "cell_type": "code",
   "execution_count": null,
   "metadata": {},
   "outputs": [],
   "source": []
  },
  {
   "cell_type": "markdown",
   "metadata": {},
   "source": [
    "### Movie"
   ]
  },
  {
   "cell_type": "code",
   "execution_count": null,
   "metadata": {},
   "outputs": [],
   "source": [
    "fig, ax = plt.subplots()\n",
    "\n",
    "# ims is a list of lists, each row is a list of artists to draw in the\n",
    "# current frame; here we are just animating one artist, the image, in\n",
    "# each frame\n",
    "ims = []\n",
    "for i in range(2000):\n",
    "    im = ax.imshow(strategies['1'].history[i].T, animated=True,  origin=\"lower\", cmap=\"Greys\",)\n",
    "    if i == 0:\n",
    "        ax.imshow(strategies['1'].history[i].T,  origin=\"lower\", cmap=\"Greys\",)  # show an initial one first\n",
    "    ims.append([im])\n",
    "\n",
    "ani = animation.ArtistAnimation(fig, ims, interval=25, blit=True, repeat=False)"
   ]
  },
  {
   "cell_type": "code",
   "execution_count": null,
   "metadata": {},
   "outputs": [],
   "source": [
    "f = r\"crowdsourcing_anim_random_tie_5fps.gif\" \n",
    "writergif = animation.PillowWriter(fps=5) \n",
    "ani.save(f, writer=writergif)"
   ]
  },
  {
   "cell_type": "code",
   "execution_count": null,
   "metadata": {},
   "outputs": [],
   "source": [
    "np.abs(1- (self.x * gradient).sum()\n",
    "                / ((self.best_response(gradient) * gradient).sum() "
   ]
  },
  {
   "cell_type": "code",
   "execution_count": null,
   "metadata": {},
   "outputs": [],
   "source": [
    "grad"
   ]
  },
  {
   "cell_type": "code",
   "execution_count": null,
   "metadata": {},
   "outputs": [],
   "source": [
    "plt.matshow(br)"
   ]
  },
  {
   "cell_type": "code",
   "execution_count": null,
   "metadata": {},
   "outputs": [],
   "source": []
  },
  {
   "cell_type": "code",
   "execution_count": null,
   "metadata": {},
   "outputs": [],
   "source": []
  },
  {
   "cell_type": "code",
   "execution_count": null,
   "metadata": {
    "scrolled": false
   },
   "outputs": [],
   "source": [
    "x = np.linspace(0.5,1,100)\n",
    "bne = lambda c, v1: 8*c*(3*v1 -2) + 4*np.log(c)*(3-5*v1) + 8*(2-3*v1)\n",
    "strategies['1'].plot(True, None)"
   ]
  },
  {
   "cell_type": "markdown",
   "metadata": {},
   "source": [
    "### Compare with Numerical Solution"
   ]
  },
  {
   "cell_type": "code",
   "execution_count": null,
   "metadata": {},
   "outputs": [],
   "source": [
    "u1 = mechanism.draw_values(250)[0]\n",
    "bids1 = strategies['1'].bid(u1)\n",
    "\n",
    "x = np.linspace(0.5,1,100)"
   ]
  },
  {
   "cell_type": "code",
   "execution_count": null,
   "metadata": {},
   "outputs": [],
   "source": [
    "plt.scatter(u1, bids1, s=5, label='SODA - losing', c='k')\n",
    "plt.plot(x, bne(x, price[0]), linestyle='--', color='r', linewidth=2, label='BNE')\n",
    "plt.grid(alpha=0.4)\n",
    "plt.legend()\n",
    "plt.title('Crowdsourcing - Prices (0.6, 0.4), 3 agents')\n",
    "plt.show()"
   ]
  },
  {
   "cell_type": "code",
   "execution_count": null,
   "metadata": {},
   "outputs": [],
   "source": []
  }
 ],
 "metadata": {
  "kernelspec": {
   "display_name": "Python 3",
   "language": "python",
   "name": "python3"
  },
  "language_info": {
   "codemirror_mode": {
    "name": "ipython",
    "version": 3
   },
   "file_extension": ".py",
   "mimetype": "text/x-python",
   "name": "python",
   "nbconvert_exporter": "python",
   "pygments_lexer": "ipython3",
   "version": "3.8.5"
  }
 },
 "nbformat": 4,
 "nbformat_minor": 4
}
