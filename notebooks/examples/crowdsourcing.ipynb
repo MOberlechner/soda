{
 "cells": [
  {
   "cell_type": "code",
   "execution_count": 1,
   "metadata": {},
   "outputs": [],
   "source": [
    "import sys\n",
    "sys.path.append('../../')\n",
    "\n",
    "import numpy as np\n",
    "\n",
    "from src.mechanism.crowdsourcing import Crowdsourcing\n",
    "from src.game import Game\n",
    "from src.strategy import Strategy\n",
    "\n",
    "from src.learner.frank_wolfe import FrankWolfe\n",
    "from src.learner.poga import POGA\n",
    "from src.learner.soda import SODA"
   ]
  },
  {
   "cell_type": "markdown",
   "metadata": {},
   "source": [
    "**Setting**\n",
    "create specific Single Item Auction setting"
   ]
  },
  {
   "cell_type": "code",
   "execution_count": 2,
   "metadata": {},
   "outputs": [],
   "source": [
    "# parameter mechanism\n",
    "bidder = ['1']*5\n",
    "o_space = {i:[0.0, 1.0] for i in bidder}\n",
    "a_space = {i:[0.0, 0.75] for i in bidder}\n",
    "\n",
    "param_prior = {'distribution':'uniform'}\n",
    "param_util = {\n",
    "    'tiebreaking':'lose', \n",
    "    'type':'valuation', \n",
    "    'prices': [0.7, 0.3]}\n",
    "\n",
    "# parameter approximation game\n",
    "n = 64\n",
    "m = 64\n",
    "\n",
    "# create mechanism\n",
    "mechanism = Crowdsourcing(bidder, o_space, a_space, param_prior, param_util)\n",
    "\n",
    "# create approximation game\n",
    "game = Game(mechanism, n, m)"
   ]
  },
  {
   "cell_type": "markdown",
   "metadata": {},
   "source": [
    "**Learner**\n",
    "Specify Learning Algorithm"
   ]
  },
  {
   "cell_type": "code",
   "execution_count": 3,
   "metadata": {},
   "outputs": [],
   "source": [
    "# parameter learner\n",
    "max_iter = int(2e4)\n",
    "tol = 1e-5\n",
    "stop_criterion = 'util_loss'\n",
    "steprule_bool = True\n",
    "eta = 0.01\n",
    "beta = 1/20\n",
    "\n",
    "#learner = SODA(max_iter, tol, stop_criterion, steprule_bool, eta, beta)\n",
    "learner = FrankWolfe(max_iter, tol, stop_criterion)\n",
    "#learner = POGA(max_iter, tol, stop_criterion, steprule_bool, eta, beta)"
   ]
  },
  {
   "cell_type": "markdown",
   "metadata": {},
   "source": [
    "Run Learning Algorithm"
   ]
  },
  {
   "cell_type": "code",
   "execution_count": 4,
   "metadata": {},
   "outputs": [
    {
     "name": "stderr",
     "output_type": "stream",
     "text": [
      " 74%|██████████████▊     | 14.8k/20.0k [00:05<00:02, 2.60kit/s]"
     ]
    },
    {
     "name": "stdout",
     "output_type": "stream",
     "text": [
      "Convergence after 14765 iterations\n",
      "Value of stopping criterion (util_loss) 1e-05\n"
     ]
    },
    {
     "name": "stderr",
     "output_type": "stream",
     "text": [
      "\n"
     ]
    }
   ],
   "source": [
    "#create and initialize strategies\n",
    "strategies = {}\n",
    "for i in game.set_bidder:\n",
    "    strategies[i] = Strategy(i, game)\n",
    "    strategies[i].initialize('random')\n",
    "    \n",
    "# run soda\n",
    "learner.run(mechanism, game, strategies, disable_tqdm=False, print=True)"
   ]
  },
  {
   "cell_type": "code",
   "execution_count": 5,
   "metadata": {},
   "outputs": [
    {
     "data": {
      "image/png": "[encoded data removed]",
      "text/plain": [
       "<Figure size 360x360 with 1 Axes>"
      ]
     },
     "metadata": {
      "needs_background": "light"
     },
     "output_type": "display_data"
    }
   ],
   "source": [
    "# analytical equilibrium\n",
    "x = strategies['1'].o_discr\n",
    "n_bidder = mechanism.n_bidder\n",
    "beta = lambda x: param_util[\"prices\"][0] * (n_bidder-1)/n_bidder*x**n_bidder\\\n",
    "               + param_util[\"prices\"][1] * ((n_bidder-2)*x**(n_bidder-1) - (n_bidder-1)**2/n_bidder * x **n_bidder)\n",
    "\n",
    "# plot computed equilibrium \n",
    "strategies['1'].plot(more=False, beta=beta(x))"
   ]
  }
 ],
 "metadata": {
  "kernelspec": {
   "display_name": "Python 3.8.10 ('venv': venv)",
   "language": "python",
   "name": "python3"
  },
  "language_info": {
   "codemirror_mode": {
    "name": "ipython",
    "version": 3
   },
   "file_extension": ".py",
   "mimetype": "text/x-python",
   "name": "python",
   "nbconvert_exporter": "python",
   "pygments_lexer": "ipython3",
   "version": "3.8.10"
  },
  "vscode": {
   "interpreter": {
    "hash": "8cd0d78033785eb1dc82ad5854ed229bd78f33abb49d156d8e5efec6e1d289a9"
   }
  }
 },
 "nbformat": 4,
 "nbformat_minor": 4
}
