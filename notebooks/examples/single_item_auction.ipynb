{
 "cells": [
  {
   "cell_type": "code",
   "execution_count": 1,
   "metadata": {},
   "outputs": [],
   "source": [
    "import sys\n",
    "sys.path.append('../../')\n",
    "import numpy as np\n",
    "from src.util.config import Config"
   ]
  },
  {
   "cell_type": "markdown",
   "metadata": {},
   "source": [
    "**Setting**\n",
    "create specific Single Item Auction setting"
   ]
  },
  {
   "cell_type": "code",
   "execution_count": 2,
   "metadata": {},
   "outputs": [],
   "source": [
    "# parameter mechanism\n",
    "bidder = ['1', '1']\n",
    "o_space = {'1': [0.0, 2.0]}\n",
    "a_space = {'1': [0.0, 1.5]}\n",
    "param_prior = {\n",
    "    'distribution':'affiliated_values',\n",
    "    }\n",
    "param_util = {\n",
    "    'payment_rule': 'first_price', \n",
    "    'tie_breaking': 'lose', \n",
    "    'utility_type': 'QL'\n",
    "    }\n",
    "# parameter approximation game\n",
    "n = 64\n",
    "m = 64\n",
    "\n",
    "config = Config()\n",
    "config.create_config_game(\"single_item\", bidder, o_space, a_space, param_prior, param_util, n, m)\n",
    "game = config.create_game()\n",
    "if not game.mechanism.own_gradient:\n",
    "    game.get_utility()"
   ]
  },
  {
   "cell_type": "code",
   "execution_count": 3,
   "metadata": {},
   "outputs": [],
   "source": [
    "# parameter learner\n",
    "max_iter = int(2e3)\n",
    "tol = 1e-4\n",
    "stop_criterion = 'util_loss'\n",
    "param_learner = {\n",
    "    \"mirror_map\": \"euclidean\",\n",
    "    \"steprule_bool\": True,\n",
    "    \"eta\": 0.1,\n",
    "    \"beta\": 0.5,\n",
    "}\n",
    "\n",
    "config.create_config_learner(\"soma\", max_iter, tol, stop_criterion, param_learner)\n",
    "learner = config.create_learner()"
   ]
  },
  {
   "cell_type": "markdown",
   "metadata": {},
   "source": [
    "Run Learning Algorithm"
   ]
  },
  {
   "cell_type": "code",
   "execution_count": 4,
   "metadata": {},
   "outputs": [
    {
     "name": "stderr",
     "output_type": "stream",
     "text": [
      "100%|████████████████████| 2.00k/2.00k [00:32<00:00, 60.7it/s]"
     ]
    },
    {
     "name": "stdout",
     "output_type": "stream",
     "text": [
      "No convergence with stopping criterion\n",
      "Current value of (util_loss): 0.00185\n",
      "Best value of (util_loss)   : 0.00185)\n"
     ]
    },
    {
     "name": "stderr",
     "output_type": "stream",
     "text": [
      "\n"
     ]
    }
   ],
   "source": [
    "#create and initialize strategies\n",
    "strategies = config.create_strategies(game, \"random\")\n",
    "\n",
    "# run learn algorithm\n",
    "learner.run(game, strategies, disable_tqdm_bool=False, print_result_bool=True, save_history_bool=True)"
   ]
  },
  {
   "cell_type": "markdown",
   "metadata": {},
   "source": [
    "Visualization of the learning process and the final result"
   ]
  },
  {
   "cell_type": "code",
   "execution_count": 5,
   "metadata": {},
   "outputs": [
    {
     "data": {
      "image/png": "[encoded data removed]",
      "text/plain": [
       "<Figure size 360x360 with 1 Axes>"
      ]
     },
     "metadata": {
      "needs_background": "light"
     },
     "output_type": "display_data"
    }
   ],
   "source": [
    "bne = game.mechanism.get_bne('1', strategies['1'].o_discr)\n",
    "strategies['1'].plot(grad=False, metrics=False, beta=bne)"
   ]
  }
 ],
 "metadata": {
  "kernelspec": {
   "display_name": "Python 3.8.10 ('venv': venv)",
   "language": "python",
   "name": "python3"
  },
  "language_info": {
   "codemirror_mode": {
    "name": "ipython",
    "version": 3
   },
   "file_extension": ".py",
   "mimetype": "text/x-python",
   "name": "python",
   "nbconvert_exporter": "python",
   "pygments_lexer": "ipython3",
   "version": "3.8.10"
  },
  "vscode": {
   "interpreter": {
    "hash": "8cd0d78033785eb1dc82ad5854ed229bd78f33abb49d156d8e5efec6e1d289a9"
   }
  }
 },
 "nbformat": 4,
 "nbformat_minor": 4
}
