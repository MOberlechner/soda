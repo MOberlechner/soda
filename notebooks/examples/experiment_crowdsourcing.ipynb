{
 "cells": [
  {
   "cell_type": "code",
   "execution_count": 1,
   "metadata": {},
   "outputs": [],
   "source": [
    "import sys\n",
    "sys.path.append('../../')\n",
    "\n",
    "import numpy as np\n",
    "\n",
    "from src.mechanism.crowdsourcing import Crowdsourcing\n",
    "from src.game import Game\n",
    "from src.strategy import Strategy\n",
    "\n",
    "from src.learner.frank_wolfe import FrankWolfe\n",
    "from src.learner.poga import POGA\n",
    "from src.learner.soda import SODA"
   ]
  },
  {
   "cell_type": "markdown",
   "metadata": {},
   "source": [
    "**Setting**\n",
    "create specific Single Item Auction setting"
   ]
  },
  {
   "cell_type": "code",
   "execution_count": 2,
   "metadata": {},
   "outputs": [],
   "source": [
    "# parameter mechanism\n",
    "bidder = ['1']*15\n",
    "o_space = {i:[0.0, 1.0] for i in bidder}\n",
    "a_space = {i:[0.0, 0.75] for i in bidder}\n",
    "\n",
    "param_prior = {'distribution':'uniform'}\n",
    "param_util = {\n",
    "    'tiebreaking':'lose', \n",
    "    'type':'valuation', \n",
    "    'prices': [0.7, 0.3]}\n",
    "\n",
    "# parameter approximation game\n",
    "n = 128\n",
    "m = 128\n",
    "\n",
    "# create mechanism\n",
    "mechanism = Crowdsourcing(bidder, o_space, a_space, param_prior, param_util)\n",
    "print(mechanism.own_gradient)\n",
    "\n",
    "# create approximation game\n",
    "game = Game(mechanism, n, m)"
   ]
  },
  {
   "cell_type": "markdown",
   "metadata": {},
   "source": [
    "**Learner**\n",
    "Specify Learning Algorithm"
   ]
  },
  {
   "cell_type": "code",
   "execution_count": 6,
   "metadata": {},
   "outputs": [],
   "source": [
    "# parameter learner\n",
    "max_iter = int(2e3)\n",
    "tol = 1e-5\n",
    "steprule_bool = True\n",
    "eta = 10\n",
    "beta = 1/20\n",
    "\n",
    "learner = SODA(max_iter, tol, steprule_bool, eta, beta)\n",
    "#learner = FrankWolfe(max_iter, tol)\n",
    "#learner = POGA(max_iter, tol, steprule_bool, eta, beta)"
   ]
  },
  {
   "cell_type": "markdown",
   "metadata": {},
   "source": [
    "Run Learning Algorithm"
   ]
  },
  {
   "cell_type": "code",
   "execution_count": 1,
   "metadata": {},
   "outputs": [
    {
     "ename": "NameError",
     "evalue": "name 'game' is not defined",
     "output_type": "error",
     "traceback": [
      "\u001b[0;31m---------------------------------------------------------------------------\u001b[0m",
      "\u001b[0;31mNameError\u001b[0m                                 Traceback (most recent call last)",
      "\u001b[1;32m/home/oberlechner/projects/soda/notebooks/examples/experiment_crowdsourcing.ipynb Cell 7\u001b[0m in \u001b[0;36m<cell line: 3>\u001b[0;34m()\u001b[0m\n\u001b[1;32m      <a href='vscode-notebook-cell://wsl%2Bubuntu-20.04/home/oberlechner/projects/soda/notebooks/examples/experiment_crowdsourcing.ipynb#W4sdnNjb2RlLXJlbW90ZQ%3D%3D?line=0'>1</a>\u001b[0m \u001b[39m#create and initialize strategies\u001b[39;00m\n\u001b[1;32m      <a href='vscode-notebook-cell://wsl%2Bubuntu-20.04/home/oberlechner/projects/soda/notebooks/examples/experiment_crowdsourcing.ipynb#W4sdnNjb2RlLXJlbW90ZQ%3D%3D?line=1'>2</a>\u001b[0m strategies \u001b[39m=\u001b[39m {}\n\u001b[0;32m----> <a href='vscode-notebook-cell://wsl%2Bubuntu-20.04/home/oberlechner/projects/soda/notebooks/examples/experiment_crowdsourcing.ipynb#W4sdnNjb2RlLXJlbW90ZQ%3D%3D?line=2'>3</a>\u001b[0m \u001b[39mfor\u001b[39;00m i \u001b[39min\u001b[39;00m game\u001b[39m.\u001b[39mset_bidder:\n\u001b[1;32m      <a href='vscode-notebook-cell://wsl%2Bubuntu-20.04/home/oberlechner/projects/soda/notebooks/examples/experiment_crowdsourcing.ipynb#W4sdnNjb2RlLXJlbW90ZQ%3D%3D?line=3'>4</a>\u001b[0m     strategies[i] \u001b[39m=\u001b[39m Strategy(i, game)\n\u001b[1;32m      <a href='vscode-notebook-cell://wsl%2Bubuntu-20.04/home/oberlechner/projects/soda/notebooks/examples/experiment_crowdsourcing.ipynb#W4sdnNjb2RlLXJlbW90ZQ%3D%3D?line=4'>5</a>\u001b[0m     strategies[i]\u001b[39m.\u001b[39minitialize(\u001b[39m'\u001b[39m\u001b[39mrandom\u001b[39m\u001b[39m'\u001b[39m)\n",
      "\u001b[0;31mNameError\u001b[0m: name 'game' is not defined"
     ]
    }
   ],
   "source": [
    "#create and initialize strategies\n",
    "strategies = {}\n",
    "for i in game.set_bidder:\n",
    "    strategies[i] = Strategy(i, game)\n",
    "    strategies[i].initialize('random')\n",
    "    \n",
    "# run soda\n",
    "learner.run(mechanism, game, strategies)"
   ]
  },
  {
   "cell_type": "code",
   "execution_count": 23,
   "metadata": {},
   "outputs": [
    {
     "data": {
      "image/png": "[encoded data removed]",
      "text/plain": [
       "<Figure size 360x360 with 1 Axes>"
      ]
     },
     "metadata": {
      "needs_background": "light"
     },
     "output_type": "display_data"
    }
   ],
   "source": [
    "x = np.linspace(0.0,1,100)\n",
    "\n",
    "n_bidder = mechanism.n_bidder\n",
    "beta = lambda x: param_util[\"price\"][0] * (n_bidder-1)/n_bidder*x**n_bidder\\\n",
    "               + param_util[\"price\"][0] * ((n_bidder-2)*x**(n_bidder-1) - (n_bidder-1)**2/n_bidder * x **n_bidder)\n",
    "    \n",
    "strategies['1'].plot(False, beta(x))"
   ]
  },
  {
   "cell_type": "markdown",
   "metadata": {},
   "source": [
    "### Mixed Strategy"
   ]
  },
  {
   "cell_type": "code",
   "execution_count": null,
   "metadata": {},
   "outputs": [],
   "source": [
    "x = np.linspace(0,1,100)"
   ]
  },
  {
   "cell_type": "code",
   "execution_count": null,
   "metadata": {},
   "outputs": [],
   "source": [
    "mechanism.get_bne('1',x)"
   ]
  },
  {
   "cell_type": "code",
   "execution_count": null,
   "metadata": {},
   "outputs": [],
   "source": [
    "(mechanism.o_space['1'] == [0, 1] and mechanism.type == 'valuation' and\n",
    "                len(mechanism.set_bidder) == 1 and (mechanism.prices > 0).sum() <= 2)"
   ]
  },
  {
   "cell_type": "code",
   "execution_count": null,
   "metadata": {},
   "outputs": [],
   "source": [
    "mechanism.get_bne(i, obs[mechanism.bidder.index(i)])"
   ]
  },
  {
   "cell_type": "code",
   "execution_count": null,
   "metadata": {},
   "outputs": [],
   "source": [
    "mechanism.set_bidder"
   ]
  },
  {
   "cell_type": "code",
   "execution_count": null,
   "metadata": {},
   "outputs": [],
   "source": [
    " mechanism.get_bne('1', obs[mechanism.bidder.index('1')])"
   ]
  },
  {
   "cell_type": "code",
   "execution_count": null,
   "metadata": {},
   "outputs": [],
   "source": [
    "plt.scatter(obs[0], bne[0])"
   ]
  },
  {
   "cell_type": "code",
   "execution_count": null,
   "metadata": {},
   "outputs": [],
   "source": []
  },
  {
   "cell_type": "code",
   "execution_count": null,
   "metadata": {},
   "outputs": [],
   "source": [
    "strategies['1'].x = np.array(strategies['1'].history[7:]).mean(axis=0)\n",
    "grad = soda.compute_gradient(strategies, game, '1')\n",
    "br = strategies['1'].best_response(grad)\n",
    "print('relative utility loss', round((1 - (grad * strategies['1'].x).sum()/(grad * br).sum())*100,2),'%')"
   ]
  },
  {
   "cell_type": "code",
   "execution_count": null,
   "metadata": {},
   "outputs": [],
   "source": [
    "strategies['1'].plot(False, beta(x))"
   ]
  },
  {
   "cell_type": "markdown",
   "metadata": {},
   "source": [
    "### Gradient"
   ]
  },
  {
   "cell_type": "code",
   "execution_count": null,
   "metadata": {},
   "outputs": [],
   "source": [
    "for i in range(200, 500, 20):\n",
    "    strategies['1'].x = strategies['1'].history[i]\n",
    "    grad = soda.compute_gradient(strategies, game, '1')\n",
    "    plt.plot(range(m), grad[50], alpha = 0.001*(i-199), color='k')"
   ]
  },
  {
   "cell_type": "code",
   "execution_count": null,
   "metadata": {},
   "outputs": [],
   "source": []
  },
  {
   "cell_type": "markdown",
   "metadata": {},
   "source": [
    "### Movie"
   ]
  },
  {
   "cell_type": "code",
   "execution_count": null,
   "metadata": {},
   "outputs": [],
   "source": [
    "fig, ax = plt.subplots()\n",
    "\n",
    "# ims is a list of lists, each row is a list of artists to draw in the\n",
    "# current frame; here we are just animating one artist, the image, in\n",
    "# each frame\n",
    "ims = []\n",
    "for i in range(2000):\n",
    "    im = ax.imshow(strategies['1'].history[i].T, animated=True,  origin=\"lower\", cmap=\"Greys\",)\n",
    "    if i == 0:\n",
    "        ax.imshow(strategies['1'].history[i].T,  origin=\"lower\", cmap=\"Greys\",)  # show an initial one first\n",
    "    ims.append([im])\n",
    "\n",
    "ani = animation.ArtistAnimation(fig, ims, interval=25, blit=True, repeat=False)"
   ]
  },
  {
   "cell_type": "code",
   "execution_count": null,
   "metadata": {},
   "outputs": [],
   "source": [
    "f = r\"crowdsourcing_anim_random_tie_5fps.gif\" \n",
    "writergif = animation.PillowWriter(fps=5) \n",
    "ani.save(f, writer=writergif)"
   ]
  },
  {
   "cell_type": "code",
   "execution_count": null,
   "metadata": {},
   "outputs": [],
   "source": [
    "np.abs(1- (self.x * gradient).sum()\n",
    "                / ((self.best_response(gradient) * gradient).sum() "
   ]
  },
  {
   "cell_type": "code",
   "execution_count": null,
   "metadata": {},
   "outputs": [],
   "source": [
    "grad"
   ]
  },
  {
   "cell_type": "code",
   "execution_count": null,
   "metadata": {},
   "outputs": [],
   "source": [
    "plt.matshow(br)"
   ]
  },
  {
   "cell_type": "code",
   "execution_count": null,
   "metadata": {},
   "outputs": [],
   "source": []
  },
  {
   "cell_type": "code",
   "execution_count": null,
   "metadata": {},
   "outputs": [],
   "source": []
  },
  {
   "cell_type": "code",
   "execution_count": null,
   "metadata": {
    "scrolled": false
   },
   "outputs": [],
   "source": [
    "x = np.linspace(0.5,1,100)\n",
    "bne = lambda c, v1: 8*c*(3*v1 -2) + 4*np.log(c)*(3-5*v1) + 8*(2-3*v1)\n",
    "strategies['1'].plot(True, None)"
   ]
  },
  {
   "cell_type": "markdown",
   "metadata": {},
   "source": [
    "### Compare with Numerical Solution"
   ]
  },
  {
   "cell_type": "code",
   "execution_count": null,
   "metadata": {},
   "outputs": [],
   "source": [
    "u1 = mechanism.draw_values(250)[0]\n",
    "bids1 = strategies['1'].bid(u1)\n",
    "\n",
    "x = np.linspace(0.5,1,100)"
   ]
  },
  {
   "cell_type": "code",
   "execution_count": null,
   "metadata": {},
   "outputs": [],
   "source": [
    "plt.scatter(u1, bids1, s=5, label='SODA - losing', c='k')\n",
    "plt.plot(x, bne(x, price[0]), linestyle='--', color='r', linewidth=2, label='BNE')\n",
    "plt.grid(alpha=0.4)\n",
    "plt.legend()\n",
    "plt.title('Crowdsourcing - Prices (0.6, 0.4), 3 agents')\n",
    "plt.show()"
   ]
  },
  {
   "cell_type": "code",
   "execution_count": null,
   "metadata": {},
   "outputs": [],
   "source": []
  }
 ],
 "metadata": {
  "kernelspec": {
   "display_name": "Python 3.8.10 ('venv': venv)",
   "language": "python",
   "name": "python3"
  },
  "language_info": {
   "codemirror_mode": {
    "name": "ipython",
    "version": 3
   },
   "file_extension": ".py",
   "mimetype": "text/x-python",
   "name": "python",
   "nbconvert_exporter": "python",
   "pygments_lexer": "ipython3",
   "version": "3.8.10"
  },
  "vscode": {
   "interpreter": {
    "hash": "8cd0d78033785eb1dc82ad5854ed229bd78f33abb49d156d8e5efec6e1d289a9"
   }
  }
 },
 "nbformat": 4,
 "nbformat_minor": 4
}
