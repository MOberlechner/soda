{
 "cells": [
  {
   "cell_type": "code",
   "execution_count": 2,
   "metadata": {},
   "outputs": [],
   "source": [
    "import sys\n",
    "sys.path.append('../../')\n",
    "\n",
    "import numpy as np\n",
    "\n",
    "from src.mechanism.single_item_roi import SingleItemAuctionROI\n",
    "from src.game import Game\n",
    "from src.strategy import Strategy\n",
    "\n",
    "from src.learner.frank_wolfe import FrankWolfe\n",
    "from src.learner.poga import POGA\n",
    "from src.learner.soda import SODA"
   ]
  },
  {
   "cell_type": "markdown",
   "metadata": {},
   "source": [
    "**Setting**\n",
    "create specific Single Item Auction setting"
   ]
  },
  {
   "cell_type": "code",
   "execution_count": 43,
   "metadata": {},
   "outputs": [],
   "source": [
    "# parameter mechanism\n",
    "bidder = ['1']*5\n",
    "o_space = {'1': [0.0, 1.0]}\n",
    "a_space = {'1': [0.05, 1.0]}\n",
    "\n",
    "param_prior = {\n",
    "    'distribution':'uniform'\n",
    "    }\n",
    "param_util = {\n",
    "    'payment_rule': 'first_price', \n",
    "    'tie_breaking': 'random', \n",
    "    'risk':1.0\n",
    "    }\n",
    "\n",
    "# parameter approximation game\n",
    "n = 10\n",
    "m = 6\n",
    "\n",
    "# create mechanism\n",
    "mechanism = SingleItemAuctionROI(bidder, o_space, a_space, param_prior, param_util)\n",
    "\n",
    "# create approximation game\n",
    "game = Game(mechanism, n, m)\n",
    "game.get_utility(mechanism)\n",
    "\n"
   ]
  },
  {
   "cell_type": "markdown",
   "metadata": {},
   "source": [
    "**Learner**\n",
    "Specify Learning Algorithm"
   ]
  },
  {
   "cell_type": "code",
   "execution_count": 44,
   "metadata": {},
   "outputs": [],
   "source": [
    "# parameter learner\n",
    "max_iter = int(1e3)\n",
    "tol = 1e-10\n",
    "stop_criterion = 'util_loss'\n",
    "steprule_bool = True\n",
    "eta = 1\n",
    "beta = 1/2\n",
    "\n",
    "#learner = SODA(max_iter, tol, stop_criterion, steprule_bool, eta, beta)\n",
    "learner = FrankWolfe(max_iter, tol, stop_criterion)\n",
    "#learner = POGA(max_iter, tol, stop_criterion, steprule_bool, eta, beta)"
   ]
  },
  {
   "cell_type": "markdown",
   "metadata": {},
   "source": [
    "Run Learning Algorithm"
   ]
  },
  {
   "cell_type": "code",
   "execution_count": 45,
   "metadata": {},
   "outputs": [
    {
     "name": "stderr",
     "output_type": "stream",
     "text": [
      "  0%|                    | 1.00/1.00k [00:00<00:01, 575it/s]"
     ]
    },
    {
     "name": "stdout",
     "output_type": "stream",
     "text": [
      "Convergence after 1 iterations\n",
      "Value of stopping criterion (util_loss) 0.0\n"
     ]
    },
    {
     "name": "stderr",
     "output_type": "stream",
     "text": [
      "\n"
     ]
    }
   ],
   "source": [
    "#create and initialize strategies\n",
    "strategies = {}\n",
    "for i in game.set_bidder:\n",
    "    strategies[i] = Strategy(i, game)\n",
    "    strategies[i].initialize('random')\n",
    "    \n",
    "# run soda\n",
    "learner.run(mechanism, game, strategies, disable_tqdm=False, print=True)"
   ]
  },
  {
   "cell_type": "markdown",
   "metadata": {},
   "source": [
    "Visualization of the learning process and the final result"
   ]
  },
  {
   "cell_type": "code",
   "execution_count": 46,
   "metadata": {},
   "outputs": [
    {
     "data": {
      "image/png": "[encoded data removed]",
      "text/plain": [
       "<Figure size 720x360 with 2 Axes>"
      ]
     },
     "metadata": {
      "needs_background": "light"
     },
     "output_type": "display_data"
    }
   ],
   "source": [
    "strategies['1'].plot(more=True)"
   ]
  },
  {
   "cell_type": "code",
   "execution_count": null,
   "metadata": {},
   "outputs": [],
   "source": []
  }
 ],
 "metadata": {
  "kernelspec": {
   "display_name": "Python 3.8.10 ('venv': venv)",
   "language": "python",
   "name": "python3"
  },
  "language_info": {
   "codemirror_mode": {
    "name": "ipython",
    "version": 3
   },
   "file_extension": ".py",
   "mimetype": "text/x-python",
   "name": "python",
   "nbconvert_exporter": "python",
   "pygments_lexer": "ipython3",
   "version": "3.8.10"
  },
  "vscode": {
   "interpreter": {
    "hash": "8cd0d78033785eb1dc82ad5854ed229bd78f33abb49d156d8e5efec6e1d289a9"
   }
  }
 },
 "nbformat": 4,
 "nbformat_minor": 4
}
