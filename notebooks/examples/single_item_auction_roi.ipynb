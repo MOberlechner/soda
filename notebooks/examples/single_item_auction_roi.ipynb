{
 "cells": [
  {
   "cell_type": "code",
   "execution_count": 1,
   "metadata": {},
   "outputs": [],
   "source": [
    "import sys\n",
    "sys.path.append('../../')\n",
    "from src.util.config import Config"
   ]
  },
  {
   "attachments": {},
   "cell_type": "markdown",
   "metadata": {},
   "source": [
    "**Setting**\n",
    "create specific Single Item Auction setting with Return-on-Invest"
   ]
  },
  {
   "cell_type": "code",
   "execution_count": 41,
   "metadata": {},
   "outputs": [
    {
     "name": "stdout",
     "output_type": "stream",
     "text": [
      "- gradient computation via mechanism -\n"
     ]
    }
   ],
   "source": [
    "# parameter mechanism\n",
    "bidder = ['1', '1']\n",
    "o_space = {'1': [0.0, 1.0]}\n",
    "a_space = {'1': [0.0, 1.0]}\n",
    "param_prior = {\n",
    "    'distribution':'uniform',\n",
    "    }\n",
    "param_util = {\n",
    "    'payment_rule': 'first_price', \n",
    "    'tie_breaking': 'lose', \n",
    "    'utility_type': 'ROI'\n",
    "    }\n",
    "# parameter approximation game\n",
    "n = 64\n",
    "m = 64\n",
    "\n",
    "config = Config()\n",
    "config.create_config_game(\"single_item\", bidder, o_space, a_space, param_prior, param_util, n, m)\n",
    "game = config.create_game()\n",
    "if not game.mechanism.own_gradient:\n",
    "    game.get_utility()\n",
    "game.get_utility()"
   ]
  },
  {
   "cell_type": "code",
   "execution_count": null,
   "metadata": {},
   "outputs": [],
   "source": []
  },
  {
   "cell_type": "markdown",
   "metadata": {},
   "source": [
    "**Learner**\n",
    "Specify Learning Algorithm"
   ]
  },
  {
   "cell_type": "code",
   "execution_count": null,
   "metadata": {},
   "outputs": [],
   "source": []
  },
  {
   "cell_type": "code",
   "execution_count": 32,
   "metadata": {},
   "outputs": [],
   "source": [
    "# parameter learner\n",
    "max_iter = int(5e3)\n",
    "tol = 1e-5\n",
    "stop_criterion = 'util_loss'\n",
    "param_learner = {\n",
    "    \"mirror_map\": \"euclidean\",\n",
    "    \"steprule_bool\": True,\n",
    "    \"eta\": 10,\n",
    "    \"beta\": 0.5,\n",
    "}\n",
    "\n",
    "config.create_config_learner(\"soma\", max_iter, tol, stop_criterion, param_learner)\n",
    "learner = config.create_learner()"
   ]
  },
  {
   "cell_type": "markdown",
   "metadata": {},
   "source": [
    "Run Learning Algorithm"
   ]
  },
  {
   "cell_type": "code",
   "execution_count": 37,
   "metadata": {},
   "outputs": [
    {
     "name": "stderr",
     "output_type": "stream",
     "text": [
      "100%|████████████████████| 5.00k/5.00k [00:02<00:00, 1.72kit/s]"
     ]
    },
    {
     "name": "stdout",
     "output_type": "stream",
     "text": [
      "No convergence with stopping criterion\n",
      "Current value of (util_loss): 0.77160\n",
      "Best value of (util_loss)   : 0.42505)\n"
     ]
    },
    {
     "name": "stderr",
     "output_type": "stream",
     "text": [
      "\n"
     ]
    }
   ],
   "source": [
    "#create and initialize strategies\n",
    "strategies = config.create_strategies(game, \"random\")\n",
    "\n",
    "# run learn algorithm\n",
    "learner.run(game, strategies, disable_tqdm_bool=False, print_result_bool=True, save_history_bool=True)"
   ]
  },
  {
   "cell_type": "markdown",
   "metadata": {},
   "source": [
    "Visualization of the learning process and the final result"
   ]
  },
  {
   "cell_type": "code",
   "execution_count": 38,
   "metadata": {},
   "outputs": [
    {
     "data": {
      "image/png": "[encoded data removed]",
      "text/plain": [
       "<Figure size 720x360 with 2 Axes>"
      ]
     },
     "metadata": {
      "needs_background": "light"
     },
     "output_type": "display_data"
    }
   ],
   "source": [
    "strategies['1'].plot(metrics=True)"
   ]
  },
  {
   "cell_type": "code",
   "execution_count": 6,
   "metadata": {},
   "outputs": [],
   "source": [
    "gradient1 = learner.gradient.x['1']"
   ]
  },
  {
   "cell_type": "code",
   "execution_count": 7,
   "metadata": {},
   "outputs": [],
   "source": [
    "from src.learner.gradient import Gradient\n",
    "import numpy as np"
   ]
  },
  {
   "cell_type": "code",
   "execution_count": 8,
   "metadata": {},
   "outputs": [],
   "source": [
    "grad = Gradient()\n",
    "grad.prepare(game, strategies)\n",
    "grad.compute(game, strategies, '1')"
   ]
  },
  {
   "cell_type": "code",
   "execution_count": 9,
   "metadata": {},
   "outputs": [],
   "source": [
    "gradient2 = grad.x['1']"
   ]
  },
  {
   "cell_type": "code",
   "execution_count": 10,
   "metadata": {},
   "outputs": [
    {
     "data": {
      "text/plain": [
       "False"
      ]
     },
     "execution_count": 10,
     "metadata": {},
     "output_type": "execute_result"
    }
   ],
   "source": [
    "np.allclose(gradient1, gradient2)"
   ]
  },
  {
   "cell_type": "code",
   "execution_count": 14,
   "metadata": {},
   "outputs": [],
   "source": [
    "import matplotlib.pyplot as plt"
   ]
  },
  {
   "cell_type": "code",
   "execution_count": 35,
   "metadata": {},
   "outputs": [
    {
     "data": {
      "text/plain": [
       "<matplotlib.image.AxesImage at 0x7f6cd147b3a0>"
      ]
     },
     "execution_count": 35,
     "metadata": {},
     "output_type": "execute_result"
    },
    {
     "data": {
      "image/png": "[encoded data removed]",
      "text/plain": [
       "<Figure size 432x288 with 1 Axes>"
      ]
     },
     "metadata": {
      "needs_background": "light"
     },
     "output_type": "display_data"
    }
   ],
   "source": [
    "plt.imshow((gradient1-gradient2).T)"
   ]
  },
  {
   "cell_type": "code",
   "execution_count": 36,
   "metadata": {},
   "outputs": [
    {
     "data": {
      "text/plain": [
       "array([-0.95078125, -0.85234375, -0.75390625, -0.65546875, -0.55703125,\n",
       "       -0.45859375, -0.36015625, -0.26171875, -0.16328125, -0.06484375,\n",
       "        0.03359375,  0.13203125,  0.23046875,  0.32890625,  0.42734375,\n",
       "        0.52578125,  0.62421875,  0.72265625,  0.82109375,  0.91953125,\n",
       "        1.01796875,  1.11640625,  1.21484375,  1.31328125,  1.41171875,\n",
       "        1.51015625,  1.60859375,  1.70703125,  1.80546875,  1.90390625,\n",
       "        2.00234375,  2.10078125,  2.19921875,  2.29765625,  2.39609375,\n",
       "        2.49453125,  2.59296875,  2.69140625,  2.78984375,  2.88828125,\n",
       "        2.98671875,  3.08515625,  3.18359375,  3.28203125,  3.38046875,\n",
       "        3.47890625,  3.57734375,  3.67578125,  3.77421875,  3.87265625,\n",
       "        3.97109375,  4.06953125,  4.16796875,  4.26640625,  4.36484375,\n",
       "        4.46328125,  4.56171875,  4.66015625,  4.75859375,  4.85703125,\n",
       "        4.95546875,  5.05390625,  5.15234375,  5.25078125])"
      ]
     },
     "execution_count": 36,
     "metadata": {},
     "output_type": "execute_result"
    }
   ],
   "source": [
    "gradient1[:,10]"
   ]
  },
  {
   "cell_type": "code",
   "execution_count": 26,
   "metadata": {},
   "outputs": [
    {
     "data": {
      "text/plain": [
       "array([-0.2209228 , -0.19804994, -0.17517708, -0.15230422, -0.12943136,\n",
       "       -0.10655849, -0.08368563, -0.06081277, -0.03793991, -0.01506704,\n",
       "        0.00780582,  0.03067868,  0.05355154,  0.0764244 ,  0.09929727,\n",
       "        0.12217013,  0.14504299,  0.16791585,  0.19078872,  0.21366158,\n",
       "        0.23653444,  0.2594073 ,  0.28228016,  0.30515303,  0.32802589,\n",
       "        0.35089875,  0.37377161,  0.39664448,  0.41951734,  0.4423902 ,\n",
       "        0.46526306,  0.48813593,  0.51100879,  0.53388165,  0.55675451,\n",
       "        0.57962737,  0.60250024,  0.6253731 ,  0.64824596,  0.67111882,\n",
       "        0.69399169,  0.71686455,  0.73973741,  0.76261027,  0.78548313,\n",
       "        0.808356  ,  0.83122886,  0.85410172,  0.87697458,  0.89984745,\n",
       "        0.92272031,  0.94559317,  0.96846603,  0.99133889,  1.01421176,\n",
       "        1.03708462,  1.05995748,  1.08283034,  1.10570321,  1.12857607,\n",
       "        1.15144893,  1.17432179,  1.19719465,  1.22006752])"
      ]
     },
     "execution_count": 26,
     "metadata": {},
     "output_type": "execute_result"
    }
   ],
   "source": [
    "gradient2[:,10]"
   ]
  },
  {
   "cell_type": "code",
   "execution_count": null,
   "metadata": {},
   "outputs": [],
   "source": []
  }
 ],
 "metadata": {
  "kernelspec": {
   "display_name": "Python 3.8.10 ('venv': venv)",
   "language": "python",
   "name": "python3"
  },
  "language_info": {
   "codemirror_mode": {
    "name": "ipython",
    "version": 3
   },
   "file_extension": ".py",
   "mimetype": "text/x-python",
   "name": "python",
   "nbconvert_exporter": "python",
   "pygments_lexer": "ipython3",
   "version": "3.8.10"
  },
  "vscode": {
   "interpreter": {
    "hash": "8cd0d78033785eb1dc82ad5854ed229bd78f33abb49d156d8e5efec6e1d289a9"
   }
  }
 },
 "nbformat": 4,
 "nbformat_minor": 4
}
