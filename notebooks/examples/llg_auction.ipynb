{
 "cells": [
  {
   "cell_type": "code",
   "execution_count": 1,
   "metadata": {},
   "outputs": [],
   "source": [
    "import sys\n",
    "sys.path.append('../../')\n",
    "\n",
    "import numpy as np\n",
    "\n",
    "from src.mechanism.llg_auction import LLGAuction\n",
    "from src.game import Game\n",
    "from src.strategy import Strategy\n",
    "\n",
    "from src.learner.frank_wolfe import FrankWolfe\n",
    "from src.learner.soma import SOMA\n",
    "from src.learner.soda import SODA"
   ]
  },
  {
   "cell_type": "code",
   "execution_count": 2,
   "metadata": {},
   "outputs": [],
   "source": [
    "# parameter mechanism\n",
    "bidder = ['L', 'L', 'G']\n",
    "o_space = {'L':[0,1], 'G':[0,2]}\n",
    "a_space = {'L':[0,1], 'G':[0,2]}\n",
    "\n",
    "param_prior = {\n",
    "    'distribution':'uniform',\n",
    "    'corr': 0.7\n",
    "    }\n",
    "\n",
    "param_util ={\n",
    "    'payment_rule': 'NB',\n",
    "    'tie_breaking': 'lose',\n",
    "            }\n",
    "\n",
    "# parameter approximation game\n",
    "n = 64\n",
    "m = 64\n",
    "\n",
    "# create mechanism\n",
    "mechanism = LLGAuction(bidder, o_space, a_space, param_prior, param_util)\n",
    "\n",
    "# create approximation game\n",
    "game = Game(mechanism, n, m)\n",
    "game.get_utility(mechanism)\n"
   ]
  },
  {
   "cell_type": "markdown",
   "metadata": {},
   "source": [
    "**Learner**\n",
    "Specify Learning Algorithm"
   ]
  },
  {
   "cell_type": "code",
   "execution_count": 5,
   "metadata": {},
   "outputs": [],
   "source": [
    "# parameter learner\n",
    "max_iter = int(1e4)\n",
    "tol = 1e-4\n",
    "stop_criterion = 'util_loss'\n",
    "regularizer = 'euclidean'\n",
    "steprule_bool = True\n",
    "eta = 10\n",
    "beta = 1/20\n",
    "\n",
    "#learner = SODA(max_iter, tol, stop_criterion, regularizer, steprule_bool, eta, beta)\n",
    "#learner = SOMA(max_iter, tol, stop_criterion, regularizer, steprule_bool, eta, beta)\n",
    "learner = FrankWolfe(max_iter, tol, stop_criterion)"
   ]
  },
  {
   "cell_type": "markdown",
   "metadata": {},
   "source": [
    "Run Learning Algorithm"
   ]
  },
  {
   "cell_type": "code",
   "execution_count": 6,
   "metadata": {},
   "outputs": [
    {
     "name": "stderr",
     "output_type": "stream",
     "text": [
      " 10%|█▉                  | 977/10.0k [00:57<13:36, 11.0it/s] "
     ]
    }
   ],
   "source": [
    "#create and initialize strategies\n",
    "strategies = {}\n",
    "for i in game.set_bidder:\n",
    "    strategies[i] = Strategy(i, game)\n",
    "    strategies[i].initialize('random')\n",
    "    \n",
    "# run soda\n",
    "learner.run(mechanism, game, strategies, disable_tqdm_bool=False, print_result_bool=True, save_history_bool=False)"
   ]
  },
  {
   "cell_type": "code",
   "execution_count": null,
   "metadata": {},
   "outputs": [],
   "source": [
    "agent = 'L'\n",
    "x = strategies[agent].o_discr\n",
    "bne = mechanism.get_bne(agent, x)\n",
    "strategies[agent].plot(True, bne)"
   ]
  },
  {
   "cell_type": "code",
   "execution_count": null,
   "metadata": {},
   "outputs": [],
   "source": [
    "agent = 'G'\n",
    "x = strategies[agent].o_discr\n",
    "bne = mechanism.get_bne(agent, x)\n",
    "strategies[agent].plot(True, bne)"
   ]
  },
  {
   "cell_type": "code",
   "execution_count": null,
   "metadata": {},
   "outputs": [],
   "source": []
  }
 ],
 "metadata": {
  "kernelspec": {
   "display_name": "Python 3.8.10 ('venv': venv)",
   "language": "python",
   "name": "python3"
  },
  "language_info": {
   "codemirror_mode": {
    "name": "ipython",
    "version": 3
   },
   "file_extension": ".py",
   "mimetype": "text/x-python",
   "name": "python",
   "nbconvert_exporter": "python",
   "pygments_lexer": "ipython3",
   "version": "3.8.10"
  },
  "vscode": {
   "interpreter": {
    "hash": "8cd0d78033785eb1dc82ad5854ed229bd78f33abb49d156d8e5efec6e1d289a9"
   }
  }
 },
 "nbformat": 4,
 "nbformat_minor": 4
}
