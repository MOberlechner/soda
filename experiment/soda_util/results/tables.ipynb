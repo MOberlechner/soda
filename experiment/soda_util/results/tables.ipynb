{
 "cells": [
  {
   "cell_type": "code",
   "execution_count": 1,
   "metadata": {},
   "outputs": [],
   "source": [
    "import numpy as np\n",
    "import pandas as pd"
   ]
  },
  {
   "cell_type": "code",
   "execution_count": 2,
   "metadata": {},
   "outputs": [],
   "source": [
    "def print_results(setting, agents=None):\n",
    "    \"\"\" Print Results from Learning and Simulation\n",
    "\n",
    "    Args:\n",
    "        setting (str): setting (single_item, llg, ...)\n",
    "    \"\"\"\n",
    "\n",
    "    agent_specified = agents is not None\n",
    "\n",
    "    # import data\n",
    "    log_learn = pd.read_csv(f\"../log/{setting}/log_learn_agg.csv\")\n",
    "    log_learn_all = pd.read_csv(f\"../log/{setting}/log_learn.csv\")\n",
    "\n",
    "    print(f\"Experiment\".ljust(20), f\"Learner\".ljust(15), f\"Agent\".rjust(5), f\"Utility Loss\".rjust(15), f\"L2-norm\".rjust(15), f\"Running Time\".rjust(15),f\"Conv.\".rjust(8), f\"Util. Loss Discr.\".rjust(20),)\n",
    "    print(\"-\"*120)\n",
    "\n",
    "    for exp in log_learn.experiment.unique():\n",
    "\n",
    "        if not agent_specified:\n",
    "            agents_list = log_learn[(log_learn.experiment == exp)].agent.unique()\n",
    "            ignore_experiment = False\n",
    "\n",
    "        elif agents not in log_learn[(log_learn.experiment == exp)].agent.unique():\n",
    "            ignore_experiment = True\n",
    "        else:\n",
    "            agents_list = [agents]\n",
    "            ignore_experiment = False\n",
    "\n",
    "        if not ignore_experiment:           \n",
    "\n",
    "            for learner in log_learn[log_learn.experiment==exp].learner.unique():            \n",
    "                for agent in agents_list:\n",
    "                    if setting not in ['contest_game']:    \n",
    "                        # simulation\n",
    "                        log_sim = pd.read_csv(f\"../log/{setting}/log_sim_agg.csv\")\n",
    "                        mean_util_loss = log_sim[(log_sim.experiment == exp)&(log_sim.learner == learner)&(log_sim.agent==agent)&(log_sim.metric==\"util_loss\")]['mean'].item()\n",
    "                        std_util_loss = log_sim[(log_sim.experiment == exp)&(log_sim.learner == learner)&(log_sim.agent==agent)&(log_sim.metric==\"util_loss\")]['std'].item()\n",
    "                        \n",
    "                        if setting != 'split_award':\n",
    "                            mean_l2 = log_sim[(log_sim.experiment == exp)&(log_sim.learner == learner)&(log_sim.agent==agent)&(log_sim.metric==\"l2_norm\")]['mean'].item()\n",
    "                            std_l2 = log_sim[(log_sim.experiment == exp)&(log_sim.learner == learner)&(log_sim.agent==agent)&(log_sim.metric==\"l2_norm\")]['std'].item()\n",
    "                        else:\n",
    "                            mean_l2 = std_l2 = np.nan\n",
    "\n",
    "                    else:\n",
    "                        mean_util_loss = std_util_loss = np.nan\n",
    "                        mean_l2 = std_l2 = np.nan                \n",
    "\n",
    "                    # learning\n",
    "                    init_time =  log_learn_all[(log_learn_all.experiment==exp)&(log_learn_all.learner==learner)&(log_learn_all.agent==agent)].time_init.max()\n",
    "                    run_time_min = log_learn_all[(log_learn_all.experiment==exp)&(log_learn_all.learner==learner)&(log_learn_all.agent==agent)].time_run.min()\n",
    "                    run_time_max = log_learn_all[(log_learn_all.experiment==exp)&(log_learn_all.learner==learner)&(log_learn_all.agent==agent)].time_run.max()\n",
    "        \n",
    "                    number_conv = log_learn_all[(log_learn_all.experiment==exp)&(log_learn_all.learner==learner)&(log_learn_all.agent==agent)].convergence.sum()\n",
    "                    number_exp = log_learn_all[(log_learn_all.experiment==exp)&(log_learn_all.learner==learner)&(log_learn_all.agent==agent)].convergence.count()\n",
    "                    convergence = f\"{number_conv:n}/{number_exp:n}\"\n",
    "                    mean_util_loss_discr = log_learn[(log_learn.experiment == exp)&(log_learn.learner == learner)&(log_learn.agent==agent)&(log_learn.Metric==\"utility_loss\")]['Mean'].item()\n",
    "                    std_util_loss_discr = log_learn[(log_learn.experiment == exp)&(log_learn.learner == learner)&(log_learn.agent==agent)&(log_learn.Metric==\"utility_loss\")]['Std'].item()\n",
    "\n",
    "                    \n",
    "                    # print results\n",
    "                    print(\n",
    "                        f\"{exp}\".ljust(20),f\"{learner}\".ljust(15),f\"{agent}\".rjust(5),\n",
    "                        f\"{mean_util_loss:.3f} ({std_util_loss:.3f})\".rjust(15),\n",
    "                        f\"{mean_l2:.3f} ({std_l2:.3f})\".rjust(15), \n",
    "                        f\"{init_time+run_time_min:3.1f}-{init_time+run_time_max:3.1f}\".rjust(15),\n",
    "                        convergence.rjust(8),\n",
    "                        f\"{mean_util_loss_discr:.3f} ({std_util_loss_discr:.3f})\".rjust(20),\n",
    "                        )\n",
    "            print(\"-\"*120) "
   ]
  },
  {
   "cell_type": "code",
   "execution_count": 3,
   "metadata": {},
   "outputs": [
    {
     "name": "stdout",
     "output_type": "stream",
     "text": [
      "Experiment           Learner         Agent    Utility Loss         L2-norm    Running Time    Conv.    Util. Loss Discr.\n",
      "------------------------------------------------------------------------------------------------------------------------\n"
     ]
    },
    {
     "ename": "ValueError",
     "evalue": "can only convert an array of size 1 to a Python scalar",
     "output_type": "error",
     "traceback": [
      "\u001b[0;31m---------------------------------------------------------------------------\u001b[0m",
      "\u001b[0;31mValueError\u001b[0m                                Traceback (most recent call last)",
      "Cell \u001b[0;32mIn[3], line 1\u001b[0m\n\u001b[0;32m----> 1\u001b[0m print_results(\u001b[39m'\u001b[39;49m\u001b[39msingle_item\u001b[39;49m\u001b[39m'\u001b[39;49m)\n",
      "Cell \u001b[0;32mIn[2], line 36\u001b[0m, in \u001b[0;36mprint_results\u001b[0;34m(setting, agents)\u001b[0m\n\u001b[1;32m     33\u001b[0m \u001b[39mif\u001b[39;00m setting \u001b[39mnot\u001b[39;00m \u001b[39min\u001b[39;00m [\u001b[39m'\u001b[39m\u001b[39mcontest_game\u001b[39m\u001b[39m'\u001b[39m]:    \n\u001b[1;32m     34\u001b[0m     \u001b[39m# simulation\u001b[39;00m\n\u001b[1;32m     35\u001b[0m     log_sim \u001b[39m=\u001b[39m pd\u001b[39m.\u001b[39mread_csv(\u001b[39mf\u001b[39m\u001b[39m\"\u001b[39m\u001b[39m../log/\u001b[39m\u001b[39m{\u001b[39;00msetting\u001b[39m}\u001b[39;00m\u001b[39m/log_sim_agg.csv\u001b[39m\u001b[39m\"\u001b[39m)\n\u001b[0;32m---> 36\u001b[0m     mean_util_loss \u001b[39m=\u001b[39m log_sim[(log_sim\u001b[39m.\u001b[39;49mexperiment \u001b[39m==\u001b[39;49m exp)\u001b[39m&\u001b[39;49m(log_sim\u001b[39m.\u001b[39;49mlearner \u001b[39m==\u001b[39;49m learner)\u001b[39m&\u001b[39;49m(log_sim\u001b[39m.\u001b[39;49magent\u001b[39m==\u001b[39;49magent)\u001b[39m&\u001b[39;49m(log_sim\u001b[39m.\u001b[39;49mmetric\u001b[39m==\u001b[39;49m\u001b[39m\"\u001b[39;49m\u001b[39mutil_loss\u001b[39;49m\u001b[39m\"\u001b[39;49m)][\u001b[39m'\u001b[39;49m\u001b[39mmean\u001b[39;49m\u001b[39m'\u001b[39;49m]\u001b[39m.\u001b[39;49mitem()\n\u001b[1;32m     37\u001b[0m     std_util_loss \u001b[39m=\u001b[39m log_sim[(log_sim\u001b[39m.\u001b[39mexperiment \u001b[39m==\u001b[39m exp)\u001b[39m&\u001b[39m(log_sim\u001b[39m.\u001b[39mlearner \u001b[39m==\u001b[39m learner)\u001b[39m&\u001b[39m(log_sim\u001b[39m.\u001b[39magent\u001b[39m==\u001b[39magent)\u001b[39m&\u001b[39m(log_sim\u001b[39m.\u001b[39mmetric\u001b[39m==\u001b[39m\u001b[39m\"\u001b[39m\u001b[39mutil_loss\u001b[39m\u001b[39m\"\u001b[39m)][\u001b[39m'\u001b[39m\u001b[39mstd\u001b[39m\u001b[39m'\u001b[39m]\u001b[39m.\u001b[39mitem()\n\u001b[1;32m     39\u001b[0m     \u001b[39mif\u001b[39;00m setting \u001b[39m!=\u001b[39m \u001b[39m'\u001b[39m\u001b[39msplit_award\u001b[39m\u001b[39m'\u001b[39m:\n",
      "File \u001b[0;32m~/code/soda/venv/lib/python3.9/site-packages/pandas/core/base.py:347\u001b[0m, in \u001b[0;36mIndexOpsMixin.item\u001b[0;34m(self)\u001b[0m\n\u001b[1;32m    345\u001b[0m \u001b[39mif\u001b[39;00m \u001b[39mlen\u001b[39m(\u001b[39mself\u001b[39m) \u001b[39m==\u001b[39m \u001b[39m1\u001b[39m:\n\u001b[1;32m    346\u001b[0m     \u001b[39mreturn\u001b[39;00m \u001b[39mnext\u001b[39m(\u001b[39miter\u001b[39m(\u001b[39mself\u001b[39m))\n\u001b[0;32m--> 347\u001b[0m \u001b[39mraise\u001b[39;00m \u001b[39mValueError\u001b[39;00m(\u001b[39m\"\u001b[39m\u001b[39mcan only convert an array of size 1 to a Python scalar\u001b[39m\u001b[39m\"\u001b[39m)\n",
      "\u001b[0;31mValueError\u001b[0m: can only convert an array of size 1 to a Python scalar"
     ]
    }
   ],
   "source": [
    "print_results('single_item')"
   ]
  }
 ],
 "metadata": {
  "kernelspec": {
   "display_name": "venv",
   "language": "python",
   "name": "python3"
  },
  "language_info": {
   "codemirror_mode": {
    "name": "ipython",
    "version": 3
   },
   "file_extension": ".py",
   "mimetype": "text/x-python",
   "name": "python",
   "nbconvert_exporter": "python",
   "pygments_lexer": "ipython3",
   "version": "3.9.12"
  },
  "orig_nbformat": 4,
  "vscode": {
   "interpreter": {
    "hash": "ffcb6435026992b5e5a33b1fbdd558b01562b3c90e511b96536c0af739084c6a"
   }
  }
 },
 "nbformat": 4,
 "nbformat_minor": 2
}
