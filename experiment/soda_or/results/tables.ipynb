{
 "cells": [
  {
   "cell_type": "code",
   "execution_count": 1,
   "metadata": {},
   "outputs": [],
   "source": [
    "import numpy as np\n",
    "import pandas as pd"
   ]
  },
  {
   "cell_type": "code",
   "execution_count": 2,
   "metadata": {},
   "outputs": [],
   "source": [
    "def print_results(setting, agents=None):\n",
    "    \"\"\" Print Results from Learning and Simulation\n",
    "\n",
    "    Args:\n",
    "        setting (str): setting (single_item, llg, ...)\n",
    "    \"\"\"\n",
    "\n",
    "    agent_specified = agents is not None\n",
    "\n",
    "    # import data\n",
    "    log_learn = pd.read_csv(f\"../log/{setting}/log_learn_agg.csv\")\n",
    "    log_learn_all = pd.read_csv(f\"../log/{setting}/log_learn.csv\")\n",
    "\n",
    "    print(f\"Experiment\".ljust(20), f\"Learner\".ljust(15), f\"Agent\".rjust(5), f\"Utility Loss\".rjust(15), f\"L2-norm\".rjust(15), f\"Running Time\".rjust(15),f\"Conv.\".rjust(8), f\"Util. Loss Discr.\".rjust(20),)\n",
    "    print(\"-\"*120)\n",
    "\n",
    "    for exp in log_learn.experiment.unique():\n",
    "\n",
    "        if not agent_specified:\n",
    "            agents_list = log_learn[(log_learn.experiment == exp)].agent.unique()\n",
    "            ignore_experiment = False\n",
    "\n",
    "        elif agents not in log_learn[(log_learn.experiment == exp)].agent.unique():\n",
    "            ignore_experiment = True\n",
    "        else:\n",
    "            agents_list = [agents]\n",
    "            ignore_experiment = False\n",
    "\n",
    "        if not ignore_experiment:           \n",
    "\n",
    "            for learner in log_learn[log_learn.experiment==exp].learner.unique():            \n",
    "                for agent in agents_list:\n",
    "                    if setting not in ['contest_game']:    \n",
    "                        # simulation\n",
    "                        log_sim = pd.read_csv(f\"../log/{setting}/log_sim_agg.csv\")\n",
    "                        mean_util_loss = log_sim[(log_sim.experiment == exp)&(log_sim.learner == learner)&(log_sim.agent==agent)&(log_sim.metric==\"util_loss\")]['mean'].item()\n",
    "                        std_util_loss = log_sim[(log_sim.experiment == exp)&(log_sim.learner == learner)&(log_sim.agent==agent)&(log_sim.metric==\"util_loss\")]['std'].item()\n",
    "                        \n",
    "                        if setting != 'split_award':\n",
    "                            mean_l2 = log_sim[(log_sim.experiment == exp)&(log_sim.learner == learner)&(log_sim.agent==agent)&(log_sim.metric==\"l2_norm\")]['mean'].item()\n",
    "                            std_l2 = log_sim[(log_sim.experiment == exp)&(log_sim.learner == learner)&(log_sim.agent==agent)&(log_sim.metric==\"l2_norm\")]['std'].item()\n",
    "                        else:\n",
    "                            mean_l2 = std_l2 = np.nan\n",
    "\n",
    "                    else:\n",
    "                        mean_util_loss = std_util_loss = np.nan\n",
    "                        mean_l2 = std_l2 = np.nan                \n",
    "\n",
    "                    # learning\n",
    "                    init_time =  log_learn_all[(log_learn_all.experiment==exp)&(log_learn_all.learner==learner)&(log_learn_all.agent==agent)].time_init.max()\n",
    "                    run_time_min = log_learn_all[(log_learn_all.experiment==exp)&(log_learn_all.learner==learner)&(log_learn_all.agent==agent)].time_run.min()\n",
    "                    run_time_max = log_learn_all[(log_learn_all.experiment==exp)&(log_learn_all.learner==learner)&(log_learn_all.agent==agent)].time_run.max()\n",
    "        \n",
    "                    number_conv = log_learn_all[(log_learn_all.experiment==exp)&(log_learn_all.learner==learner)&(log_learn_all.agent==agent)].convergence.sum()\n",
    "                    number_exp = log_learn_all[(log_learn_all.experiment==exp)&(log_learn_all.learner==learner)&(log_learn_all.agent==agent)].convergence.count()\n",
    "                    convergence = f\"{number_conv:n}/{number_exp:n}\"\n",
    "                    mean_util_loss_discr = log_learn[(log_learn.experiment == exp)&(log_learn.learner == learner)&(log_learn.agent==agent)&(log_learn.Metric==\"utility_loss\")]['Mean'].item()\n",
    "                    std_util_loss_discr = log_learn[(log_learn.experiment == exp)&(log_learn.learner == learner)&(log_learn.agent==agent)&(log_learn.Metric==\"utility_loss\")]['Std'].item()\n",
    "\n",
    "                    \n",
    "                    # print results\n",
    "                    print(\n",
    "                        f\"{exp}\".ljust(20),f\"{learner}\".ljust(15),f\"{agent}\".rjust(5),\n",
    "                        f\"{mean_util_loss:.3f} ({std_util_loss:.3f})\".rjust(15),\n",
    "                        f\"{mean_l2:.3f} ({std_l2:.3f})\".rjust(15), \n",
    "                        f\"{init_time+run_time_min:3.1f}-{init_time+run_time_max:3.1f}\".rjust(15),\n",
    "                        convergence.rjust(8),\n",
    "                        f\"{mean_util_loss_discr:.3f} ({std_util_loss_discr:.3f})\".rjust(20),\n",
    "                        )\n",
    "            print(\"-\"*120) "
   ]
  },
  {
   "cell_type": "code",
   "execution_count": 3,
   "metadata": {},
   "outputs": [
    {
     "name": "stdout",
     "output_type": "stream",
     "text": [
      "Experiment           Learner         Agent    Utility Loss         L2-norm    Running Time    Conv.    Util. Loss Discr.\n",
      "------------------------------------------------------------------------------------------------------------------------\n",
      "affiliated_values    soda_entro_av       1   0.002 (0.000)   0.014 (0.000)       15.2-15.8     0/10        0.004 (0.000)\n",
      "affiliated_values    soda_eucl_av        1   0.002 (0.000)   0.012 (0.000)       11.3-11.9     0/10        0.004 (0.000)\n",
      "affiliated_values    soma_eucl_av        1   0.002 (0.000)   0.014 (0.000)       11.3-11.4     0/10        0.001 (0.000)\n",
      "affiliated_values    sofw_std            1   0.004 (0.001)   0.020 (0.002)       11.2-11.2     0/10        0.001 (0.000)\n",
      "affiliated_values    fp                  1   0.005 (0.000)   0.025 (0.001)       11.8-12.8     0/10        0.003 (0.000)\n",
      "------------------------------------------------------------------------------------------------------------------------\n",
      "common_value         soma_eucl_cv        1   0.003 (0.000)   0.018 (0.001)         7.0-9.4    10/10        0.000 (0.000)\n",
      "common_value         sofw_std            1   0.000 (0.001)   0.196 (0.031)     103.0-789.4    10/10        0.000 (0.000)\n",
      "common_value         soda_entro_cv       1   0.007 (0.000)   0.034 (0.001)     585.3-896.0     0/10        0.001 (0.000)\n",
      "common_value         soda_eucl           1   0.003 (0.000)   0.019 (0.000)     823.0-957.7     0/10        0.000 (0.000)\n",
      "common_value         fp                  1   0.000 (0.001)   0.439 (0.014)     526.0-856.1     0/10        0.002 (0.000)\n",
      "------------------------------------------------------------------------------------------------------------------------\n"
     ]
    }
   ],
   "source": [
    "print_results('single_item')"
   ]
  },
  {
   "cell_type": "code",
   "execution_count": 4,
   "metadata": {},
   "outputs": [
    {
     "name": "stdout",
     "output_type": "stream",
     "text": [
      "Experiment           Learner         Agent    Utility Loss         L2-norm    Running Time    Conv.    Util. Loss Discr.\n",
      "------------------------------------------------------------------------------------------------------------------------\n",
      "nb_gamma1            soda_eucl           L   0.001 (0.000)   0.013 (0.000)         1.0-1.1    10/10        0.000 (0.000)\n",
      "nb_gamma1            soma_eucl           L   0.000 (0.000)   0.012 (0.000)         0.9-0.9    10/10        0.000 (0.000)\n",
      "nb_gamma1            sofw_std            L   0.000 (0.000)   0.013 (0.001)         1.6-2.1    10/10        0.000 (0.000)\n",
      "nb_gamma1            soda_entro          L   0.001 (0.000)   0.014 (0.001)        8.9-15.3    10/10        0.000 (0.000)\n",
      "nb_gamma1            fp                  L   0.001 (0.000)   0.017 (0.000)       31.4-38.7     0/10        0.000 (0.000)\n",
      "------------------------------------------------------------------------------------------------------------------------\n",
      "nb_gamma2            soda_eucl           L   0.000 (0.000)   0.008 (0.000)         0.8-0.9    10/10        0.000 (0.000)\n",
      "nb_gamma2            soma_eucl           L   0.000 (0.000)   0.008 (0.001)         0.8-0.9    10/10        0.000 (0.000)\n",
      "nb_gamma2            sofw_std            L   0.000 (0.000)   0.009 (0.001)         0.8-2.2    10/10        0.000 (0.000)\n",
      "nb_gamma2            soda_entro          L   0.001 (0.000)   0.015 (0.002)        8.6-22.8    10/10        0.000 (0.000)\n",
      "nb_gamma2            fp                  L   0.001 (0.000)   0.015 (0.000)       34.3-37.5     0/10        0.000 (0.000)\n",
      "------------------------------------------------------------------------------------------------------------------------\n",
      "nb_gamma3            soda_eucl           L   0.000 (0.000)   0.009 (0.001)         1.0-1.5    10/10        0.000 (0.000)\n",
      "nb_gamma3            soma_eucl           L   0.000 (0.000)   0.009 (0.000)         0.8-0.9    10/10        0.000 (0.000)\n",
      "nb_gamma3            sofw_std            L   0.000 (0.000)   0.012 (0.000)         2.1-2.4    10/10        0.000 (0.000)\n",
      "nb_gamma3            soda_entro          L   0.001 (0.000)   0.017 (0.001)        8.4-12.8    10/10        0.000 (0.000)\n",
      "nb_gamma3            fp                  L   0.001 (0.000)   0.016 (0.000)       35.1-35.6     0/10        0.000 (0.000)\n",
      "------------------------------------------------------------------------------------------------------------------------\n",
      "nz_gamma1            soda_eucl           L   0.002 (0.000)   0.021 (0.001)         1.2-1.5    10/10        0.000 (0.000)\n",
      "nz_gamma1            soma_eucl           L   0.002 (0.000)   0.018 (0.002)         0.8-0.9    10/10        0.000 (0.000)\n",
      "nz_gamma1            sofw_std            L   0.002 (0.000)   0.018 (0.000)         1.2-1.4    10/10        0.000 (0.000)\n",
      "nz_gamma1            soda_entro          L   0.002 (0.000)   0.022 (0.002)       10.9-13.4    10/10        0.000 (0.000)\n",
      "nz_gamma1            fp                  L   0.002 (0.000)   0.021 (0.000)       35.1-36.2     0/10        0.000 (0.000)\n",
      "------------------------------------------------------------------------------------------------------------------------\n",
      "nz_gamma2            soda_eucl           L   0.001 (0.000)   0.024 (0.002)         1.9-3.3    10/10        0.000 (0.000)\n",
      "nz_gamma2            soma_eucl           L   0.001 (0.000)   0.019 (0.001)         0.9-1.0    10/10        0.000 (0.000)\n",
      "nz_gamma2            sofw_std            L   0.001 (0.000)   0.023 (0.000)         1.2-1.3    10/10        0.000 (0.000)\n",
      "nz_gamma2            soda_entro          L   0.001 (0.000)   0.022 (0.001)       12.0-23.2    10/10        0.000 (0.000)\n",
      "nz_gamma2            fp                  L   0.001 (0.000)   0.023 (0.000)       35.2-36.4     0/10        0.000 (0.000)\n",
      "------------------------------------------------------------------------------------------------------------------------\n",
      "nz_gamma3            soda_eucl           L   0.000 (0.000)   0.025 (0.001)         5.2-6.3    10/10        0.000 (0.000)\n",
      "nz_gamma3            soma_eucl           L   0.000 (0.000)   0.021 (0.000)         0.9-1.0    10/10        0.000 (0.000)\n",
      "nz_gamma3            sofw_std            L   0.000 (0.000)   0.034 (0.000)         1.1-1.3    10/10        0.000 (0.000)\n",
      "nz_gamma3            soda_entro          L   0.000 (0.000)   0.025 (0.000)       15.3-34.4    10/10        0.000 (0.000)\n",
      "nz_gamma3            fp                  L   0.000 (0.000)   0.028 (0.000)       35.2-35.7     0/10        0.000 (0.000)\n",
      "------------------------------------------------------------------------------------------------------------------------\n",
      "nvcg_gamma1          soda_eucl           L   0.001 (0.000)   0.017 (0.000)         1.0-1.2    10/10        0.000 (0.000)\n",
      "nvcg_gamma1          soma_eucl           L   0.001 (0.000)   0.015 (0.001)         0.8-0.8    10/10        0.000 (0.000)\n",
      "nvcg_gamma1          sofw_std            L   0.001 (0.000)   0.015 (0.000)         1.2-1.5    10/10        0.000 (0.000)\n",
      "nvcg_gamma1          soda_entro          L   0.001 (0.000)   0.017 (0.001)        9.2-15.2    10/10        0.000 (0.000)\n",
      "nvcg_gamma1          fp                  L   0.001 (0.000)   0.019 (0.000)       35.2-36.7     0/10        0.000 (0.000)\n",
      "------------------------------------------------------------------------------------------------------------------------\n",
      "nvcg_gamma2          soda_eucl           L   0.001 (0.000)   0.016 (0.000)         1.2-1.6    10/10        0.000 (0.000)\n",
      "nvcg_gamma2          soma_eucl           L   0.000 (0.000)   0.014 (0.001)         0.8-0.8    10/10        0.000 (0.000)\n",
      "nvcg_gamma2          sofw_std            L   0.000 (0.000)   0.015 (0.000)         1.3-1.5    10/10        0.000 (0.000)\n",
      "nvcg_gamma2          soda_entro          L   0.001 (0.000)   0.017 (0.001)        9.7-14.4    10/10        0.000 (0.000)\n",
      "nvcg_gamma2          fp                  L   0.001 (0.000)   0.018 (0.000)       35.1-35.7     0/10        0.000 (0.000)\n",
      "------------------------------------------------------------------------------------------------------------------------\n",
      "nvcg_gamma3          soda_eucl           L   0.000 (0.000)   0.016 (0.000)         1.6-1.9    10/10        0.000 (0.000)\n",
      "nvcg_gamma3          soma_eucl           L   0.000 (0.000)   0.016 (0.001)         0.8-0.9    10/10        0.000 (0.000)\n",
      "nvcg_gamma3          sofw_std            L   0.000 (0.000)   0.016 (0.000)         1.5-2.1    10/10        0.000 (0.000)\n",
      "nvcg_gamma3          soda_entro          L   0.001 (0.000)   0.021 (0.002)        7.8-12.1    10/10        0.000 (0.000)\n",
      "nvcg_gamma3          fp                  L   0.001 (0.000)   0.019 (0.000)       37.0-46.4     0/10        0.000 (0.000)\n",
      "------------------------------------------------------------------------------------------------------------------------\n"
     ]
    }
   ],
   "source": [
    "print_results('llg_auction', 'L')"
   ]
  },
  {
   "cell_type": "code",
   "execution_count": 11,
   "metadata": {},
   "outputs": [
    {
     "name": "stdout",
     "output_type": "stream",
     "text": [
      "Experiment           Learner         Agent    Utility Loss         L2-norm    Running Time    Conv.    Util. Loss Discr.\n",
      "------------------------------------------------------------------------------------------------------------------------\n",
      "sa_gaussian          soda_entro_gaus     1  -0.023 (0.000)       nan (nan)       58.6-64.7    10/10        0.000 (0.000)\n",
      "sa_gaussian          soda_eucl_gaus      1  -0.069 (0.001)       nan (nan)       68.7-72.1    10/10        0.000 (0.000)\n",
      "sa_gaussian          sofw_std            1  -0.002 (0.067)       nan (nan)     418.3-421.1     0/10        0.000 (0.000)\n",
      "sa_gaussian          fp                  1   0.065 (0.070)       nan (nan)     417.4-424.1     0/10        0.008 (0.001)\n",
      "sa_gaussian          soma_eucl_gaus      1  -0.082 (0.003)       nan (nan)     416.1-424.4     0/10        0.002 (0.000)\n",
      "------------------------------------------------------------------------------------------------------------------------\n",
      "sa_uniform           soda_entro_unif     1   0.017 (0.008)       nan (nan)      48.1-121.6    10/10        0.000 (0.000)\n",
      "sa_uniform           soda_eucl_unif      1   0.055 (0.039)       nan (nan)     410.9-412.7     0/10        0.010 (0.009)\n",
      "sa_uniform           sofw_std            1   0.121 (0.039)       nan (nan)     649.9-669.0     0/10        0.000 (0.000)\n",
      "sa_uniform           fp                  1   0.143 (0.021)       nan (nan)   443.8-13325.5     0/10        0.009 (0.000)\n",
      "sa_uniform           soma_eucl_unif      1   0.044 (0.004)       nan (nan)     420.4-423.2     0/10        0.009 (0.000)\n",
      "------------------------------------------------------------------------------------------------------------------------\n"
     ]
    }
   ],
   "source": [
    "print_results('split_award')"
   ]
  },
  {
   "cell_type": "code",
   "execution_count": 12,
   "metadata": {},
   "outputs": [
    {
     "data": {
      "text/plain": [
       "6.933333333333334"
      ]
     },
     "execution_count": 12,
     "metadata": {},
     "output_type": "execute_result"
    }
   ],
   "source": [
    "416/60"
   ]
  },
  {
   "cell_type": "code",
   "execution_count": 9,
   "metadata": {},
   "outputs": [
    {
     "name": "stdout",
     "output_type": "stream",
     "text": [
      "Experiment           Learner         Agent    Utility Loss         L2-norm    Running Time    Conv.    Util. Loss Discr.\n",
      "------------------------------------------------------------------------------------------------------------------------\n",
      "asym_ratio1          soda_entro      strong       nan (nan)       nan (nan)         0.3-0.4    10/10        0.000 (0.000)\n",
      "asym_ratio1          soda_eucl       strong       nan (nan)       nan (nan)         0.0-0.0    10/10        0.000 (0.000)\n",
      "asym_ratio1          soma_eucl       strong       nan (nan)       nan (nan)         0.0-0.1    10/10        0.000 (0.000)\n",
      "asym_ratio1          sofw_std        strong       nan (nan)       nan (nan)         0.0-0.1    10/10        0.000 (0.000)\n",
      "------------------------------------------------------------------------------------------------------------------------\n",
      "asym_ratio2          soda_entro      strong       nan (nan)       nan (nan)         0.7-1.7    10/10        0.000 (0.000)\n",
      "asym_ratio2          soda_eucl       strong       nan (nan)       nan (nan)         0.5-1.1    10/10        0.000 (0.000)\n",
      "asym_ratio2          soma_eucl       strong       nan (nan)       nan (nan)         0.0-0.0    10/10        0.000 (0.000)\n",
      "asym_ratio2          sofw_std        strong       nan (nan)       nan (nan)         0.1-0.1    10/10        0.000 (0.000)\n",
      "------------------------------------------------------------------------------------------------------------------------\n",
      "asym_ratio3          soda_entro      strong       nan (nan)       nan (nan)         0.8-1.0    10/10        0.000 (0.000)\n",
      "asym_ratio3          soda_eucl       strong       nan (nan)       nan (nan)         2.5-6.0     0/10        0.000 (0.000)\n",
      "asym_ratio3          soma_eucl       strong       nan (nan)       nan (nan)         0.2-0.3    10/10        0.000 (0.000)\n",
      "asym_ratio3          sofw_std        strong       nan (nan)       nan (nan)         0.3-0.5    10/10        0.000 (0.000)\n",
      "------------------------------------------------------------------------------------------------------------------------\n"
     ]
    }
   ],
   "source": [
    "print_results('contest_game', 'strong')"
   ]
  },
  {
   "cell_type": "code",
   "execution_count": null,
   "metadata": {},
   "outputs": [],
   "source": []
  }
 ],
 "metadata": {
  "kernelspec": {
   "display_name": "Python 3.8.0 ('venv': virtualenv)",
   "language": "python",
   "name": "python3"
  },
  "language_info": {
   "codemirror_mode": {
    "name": "ipython",
    "version": 3
   },
   "file_extension": ".py",
   "mimetype": "text/x-python",
   "name": "python",
   "nbconvert_exporter": "python",
   "pygments_lexer": "ipython3",
   "version": "3.8.10"
  },
  "orig_nbformat": 4,
  "vscode": {
   "interpreter": {
    "hash": "8cd0d78033785eb1dc82ad5854ed229bd78f33abb49d156d8e5efec6e1d289a9"
   }
  }
 },
 "nbformat": 4,
 "nbformat_minor": 2
}
